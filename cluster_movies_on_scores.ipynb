{
 "cells": [
  {
   "cell_type": "code",
   "execution_count": 22,
   "metadata": {},
   "outputs": [],
   "source": [
    "import pandas as pd\n",
    "import numpy as np\n",
    "from sklearn.preprocessing import StandardScaler\n",
    "from sklearn.cluster import KMeans\n",
    "from sklearn.metrics import silhouette_score\n",
    "import matplotlib.pyplot as plt\n",
    "import plotly.express as px\n",
    "import plotly.graph_objects as go"
   ]
  },
  {
   "cell_type": "code",
   "execution_count": 5,
   "metadata": {},
   "outputs": [
    {
     "data": {
      "text/html": [
       "<div>\n",
       "<style scoped>\n",
       "    .dataframe tbody tr th:only-of-type {\n",
       "        vertical-align: middle;\n",
       "    }\n",
       "\n",
       "    .dataframe tbody tr th {\n",
       "        vertical-align: top;\n",
       "    }\n",
       "\n",
       "    .dataframe thead th {\n",
       "        text-align: right;\n",
       "    }\n",
       "</style>\n",
       "<table border=\"1\" class=\"dataframe\">\n",
       "  <thead>\n",
       "    <tr style=\"text-align: right;\">\n",
       "      <th></th>\n",
       "      <th>Movie Name</th>\n",
       "      <th>Critics Score</th>\n",
       "      <th>Audience Score</th>\n",
       "    </tr>\n",
       "  </thead>\n",
       "  <tbody>\n",
       "    <tr>\n",
       "      <th>0</th>\n",
       "      <td>Longlegs</td>\n",
       "      <td>86%</td>\n",
       "      <td>60%</td>\n",
       "    </tr>\n",
       "    <tr>\n",
       "      <th>1</th>\n",
       "      <td>Oddity</td>\n",
       "      <td>96%</td>\n",
       "      <td>79%</td>\n",
       "    </tr>\n",
       "    <tr>\n",
       "      <th>2</th>\n",
       "      <td>The Union</td>\n",
       "      <td>36%</td>\n",
       "      <td>23%</td>\n",
       "    </tr>\n",
       "    <tr>\n",
       "      <th>3</th>\n",
       "      <td>Borderlands</td>\n",
       "      <td>10%</td>\n",
       "      <td>53%</td>\n",
       "    </tr>\n",
       "    <tr>\n",
       "      <th>4</th>\n",
       "      <td>Ghostlight</td>\n",
       "      <td>100%</td>\n",
       "      <td>94%</td>\n",
       "    </tr>\n",
       "  </tbody>\n",
       "</table>\n",
       "</div>"
      ],
      "text/plain": [
       "    Movie Name Critics Score Audience Score\n",
       "0     Longlegs           86%            60%\n",
       "1       Oddity           96%            79%\n",
       "2    The Union           36%            23%\n",
       "3  Borderlands           10%            53%\n",
       "4   Ghostlight          100%            94%"
      ]
     },
     "execution_count": 5,
     "metadata": {},
     "output_type": "execute_result"
    }
   ],
   "source": [
    "df = pd.read_csv('rottentomatoes_movies.csv')\n",
    "df.head()"
   ]
  },
  {
   "cell_type": "code",
   "execution_count": 6,
   "metadata": {},
   "outputs": [
    {
     "data": {
      "text/html": [
       "<div>\n",
       "<style scoped>\n",
       "    .dataframe tbody tr th:only-of-type {\n",
       "        vertical-align: middle;\n",
       "    }\n",
       "\n",
       "    .dataframe tbody tr th {\n",
       "        vertical-align: top;\n",
       "    }\n",
       "\n",
       "    .dataframe thead th {\n",
       "        text-align: right;\n",
       "    }\n",
       "</style>\n",
       "<table border=\"1\" class=\"dataframe\">\n",
       "  <thead>\n",
       "    <tr style=\"text-align: right;\">\n",
       "      <th></th>\n",
       "      <th>Movie Name</th>\n",
       "      <th>Critics Score</th>\n",
       "      <th>Audience Score</th>\n",
       "    </tr>\n",
       "  </thead>\n",
       "  <tbody>\n",
       "    <tr>\n",
       "      <th>0</th>\n",
       "      <td>Longlegs</td>\n",
       "      <td>86.0</td>\n",
       "      <td>60.0</td>\n",
       "    </tr>\n",
       "    <tr>\n",
       "      <th>1</th>\n",
       "      <td>Oddity</td>\n",
       "      <td>96.0</td>\n",
       "      <td>79.0</td>\n",
       "    </tr>\n",
       "    <tr>\n",
       "      <th>2</th>\n",
       "      <td>The Union</td>\n",
       "      <td>36.0</td>\n",
       "      <td>23.0</td>\n",
       "    </tr>\n",
       "    <tr>\n",
       "      <th>3</th>\n",
       "      <td>Borderlands</td>\n",
       "      <td>10.0</td>\n",
       "      <td>53.0</td>\n",
       "    </tr>\n",
       "    <tr>\n",
       "      <th>4</th>\n",
       "      <td>Ghostlight</td>\n",
       "      <td>100.0</td>\n",
       "      <td>94.0</td>\n",
       "    </tr>\n",
       "    <tr>\n",
       "      <th>...</th>\n",
       "      <td>...</td>\n",
       "      <td>...</td>\n",
       "      <td>...</td>\n",
       "    </tr>\n",
       "    <tr>\n",
       "      <th>295</th>\n",
       "      <td>Ferrari</td>\n",
       "      <td>72.0</td>\n",
       "      <td>74.0</td>\n",
       "    </tr>\n",
       "    <tr>\n",
       "      <th>296</th>\n",
       "      <td>Titanic</td>\n",
       "      <td>88.0</td>\n",
       "      <td>69.0</td>\n",
       "    </tr>\n",
       "    <tr>\n",
       "      <th>297</th>\n",
       "      <td>It Comes at Night</td>\n",
       "      <td>88.0</td>\n",
       "      <td>44.0</td>\n",
       "    </tr>\n",
       "    <tr>\n",
       "      <th>298</th>\n",
       "      <td>The Nature of Love</td>\n",
       "      <td>92.0</td>\n",
       "      <td>80.0</td>\n",
       "    </tr>\n",
       "    <tr>\n",
       "      <th>299</th>\n",
       "      <td>The Greatest Showman</td>\n",
       "      <td>57.0</td>\n",
       "      <td>86.0</td>\n",
       "    </tr>\n",
       "  </tbody>\n",
       "</table>\n",
       "<p>300 rows × 3 columns</p>\n",
       "</div>"
      ],
      "text/plain": [
       "               Movie Name  Critics Score  Audience Score\n",
       "0                Longlegs           86.0            60.0\n",
       "1                  Oddity           96.0            79.0\n",
       "2               The Union           36.0            23.0\n",
       "3             Borderlands           10.0            53.0\n",
       "4              Ghostlight          100.0            94.0\n",
       "..                    ...            ...             ...\n",
       "295               Ferrari           72.0            74.0\n",
       "296               Titanic           88.0            69.0\n",
       "297     It Comes at Night           88.0            44.0\n",
       "298    The Nature of Love           92.0            80.0\n",
       "299  The Greatest Showman           57.0            86.0\n",
       "\n",
       "[300 rows x 3 columns]"
      ]
     },
     "execution_count": 6,
     "metadata": {},
     "output_type": "execute_result"
    }
   ],
   "source": [
    "# Let's convert those % values to numerical\n",
    "df['Critics Score'] = df['Critics Score'].str.replace('%', '').astype(float)\n",
    "df['Audience Score'] = df['Audience Score'].str.replace('%', '').astype(float)\n",
    "df"
   ]
  },
  {
   "cell_type": "code",
   "execution_count": 7,
   "metadata": {},
   "outputs": [
    {
     "data": {
      "text/plain": [
       "Movie Name        0\n",
       "Critics Score     4\n",
       "Audience Score    6\n",
       "dtype: int64"
      ]
     },
     "execution_count": 7,
     "metadata": {},
     "output_type": "execute_result"
    }
   ],
   "source": [
    "df.isnull().sum()"
   ]
  },
  {
   "cell_type": "code",
   "execution_count": 8,
   "metadata": {},
   "outputs": [],
   "source": [
    "df.dropna(inplace=True)"
   ]
  },
  {
   "cell_type": "code",
   "execution_count": 9,
   "metadata": {},
   "outputs": [
    {
     "data": {
      "text/plain": [
       "Movie Name        0\n",
       "Critics Score     0\n",
       "Audience Score    0\n",
       "dtype: int64"
      ]
     },
     "execution_count": 9,
     "metadata": {},
     "output_type": "execute_result"
    }
   ],
   "source": [
    "df.isna().sum()"
   ]
  },
  {
   "cell_type": "code",
   "execution_count": 10,
   "metadata": {},
   "outputs": [
    {
     "data": {
      "text/plain": [
       "292"
      ]
     },
     "execution_count": 10,
     "metadata": {},
     "output_type": "execute_result"
    }
   ],
   "source": [
    "len(df)"
   ]
  },
  {
   "cell_type": "markdown",
   "metadata": {},
   "source": [
    "#### 1. Distribution of Critics and Audience Scores"
   ]
  },
  {
   "cell_type": "code",
   "execution_count": 18,
   "metadata": {},
   "outputs": [
    {
     "data": {
      "application/vnd.plotly.v1+json": {
       "config": {
        "plotlyServerURL": "https://plot.ly"
       },
       "data": [
        {
         "alignmentgroup": "True",
         "bingroup": "x",
         "hovertemplate": "Critics Score (%)=%{x}<br>count=%{y}<extra></extra>",
         "legendgroup": "",
         "marker": {
          "color": "red",
          "pattern": {
           "shape": ""
          }
         },
         "name": "",
         "nbinsx": 20,
         "offsetgroup": "",
         "orientation": "v",
         "showlegend": false,
         "type": "histogram",
         "x": [
          86,
          96,
          36,
          10,
          100,
          75,
          95,
          55,
          91,
          90,
          49,
          30,
          58,
          86,
          65,
          86,
          99,
          41,
          82,
          65,
          56,
          92,
          93,
          80,
          80,
          89,
          69,
          71,
          81,
          94,
          97,
          92,
          94,
          72,
          91,
          44,
          73,
          71,
          67,
          32,
          90,
          11,
          88,
          80,
          85,
          93,
          52,
          91,
          93,
          50,
          30,
          84,
          65,
          87,
          93,
          89,
          90,
          83,
          73,
          18,
          82,
          94,
          92,
          91,
          20,
          63,
          39,
          85,
          38,
          42,
          97,
          77,
          62,
          94,
          81,
          77,
          73,
          92,
          94,
          82,
          53,
          73,
          35,
          93,
          89,
          98,
          41,
          32,
          93,
          97,
          96,
          77,
          95,
          94,
          92,
          94,
          75,
          100,
          100,
          64,
          91,
          92,
          81,
          85,
          36,
          25,
          26,
          54,
          70,
          29,
          89,
          92,
          78,
          75,
          24,
          44,
          95,
          93,
          59,
          90,
          80,
          56,
          84,
          12,
          42,
          93,
          33,
          6,
          90,
          97,
          82,
          96,
          66,
          98,
          91,
          0,
          22,
          99,
          85,
          98,
          85,
          95,
          96,
          97,
          83,
          50,
          64,
          47,
          83,
          94,
          86,
          96,
          83,
          84,
          45,
          91,
          89,
          94,
          70,
          34,
          90,
          58,
          84,
          18,
          20,
          96,
          45,
          69,
          94,
          93,
          53,
          68,
          88,
          94,
          74,
          19,
          63,
          76,
          91,
          45,
          88,
          64,
          93,
          98,
          97,
          59,
          42,
          29,
          63,
          91,
          53,
          79,
          38,
          67,
          82,
          93,
          67,
          74,
          96,
          95,
          71,
          86,
          96,
          95,
          80,
          94,
          94,
          86,
          85,
          100,
          59,
          46,
          71,
          79,
          83,
          21,
          64,
          84,
          84,
          38,
          97,
          56,
          29,
          88,
          22,
          17,
          84,
          90,
          41,
          51,
          51,
          96,
          76,
          90,
          83,
          100,
          70,
          83,
          88,
          80,
          35,
          91,
          84,
          88,
          50,
          52,
          84,
          96,
          45,
          70,
          90,
          90,
          91,
          10,
          37,
          91,
          96,
          49,
          91,
          57,
          97,
          93,
          80,
          84,
          86,
          67,
          61,
          88,
          88,
          68,
          51,
          75,
          34,
          98,
          71,
          71,
          82,
          80,
          57,
          81,
          90,
          18,
          99,
          92,
          92,
          67,
          100,
          72,
          88,
          88,
          92,
          57
         ],
         "xaxis": "x",
         "yaxis": "y"
        }
       ],
       "layout": {
        "barmode": "relative",
        "legend": {
         "tracegroupgap": 0
        },
        "template": {
         "data": {
          "bar": [
           {
            "error_x": {
             "color": "#2a3f5f"
            },
            "error_y": {
             "color": "#2a3f5f"
            },
            "marker": {
             "line": {
              "color": "#E5ECF6",
              "width": 0.5
             },
             "pattern": {
              "fillmode": "overlay",
              "size": 10,
              "solidity": 0.2
             }
            },
            "type": "bar"
           }
          ],
          "barpolar": [
           {
            "marker": {
             "line": {
              "color": "#E5ECF6",
              "width": 0.5
             },
             "pattern": {
              "fillmode": "overlay",
              "size": 10,
              "solidity": 0.2
             }
            },
            "type": "barpolar"
           }
          ],
          "carpet": [
           {
            "aaxis": {
             "endlinecolor": "#2a3f5f",
             "gridcolor": "white",
             "linecolor": "white",
             "minorgridcolor": "white",
             "startlinecolor": "#2a3f5f"
            },
            "baxis": {
             "endlinecolor": "#2a3f5f",
             "gridcolor": "white",
             "linecolor": "white",
             "minorgridcolor": "white",
             "startlinecolor": "#2a3f5f"
            },
            "type": "carpet"
           }
          ],
          "choropleth": [
           {
            "colorbar": {
             "outlinewidth": 0,
             "ticks": ""
            },
            "type": "choropleth"
           }
          ],
          "contour": [
           {
            "colorbar": {
             "outlinewidth": 0,
             "ticks": ""
            },
            "colorscale": [
             [
              0,
              "#0d0887"
             ],
             [
              0.1111111111111111,
              "#46039f"
             ],
             [
              0.2222222222222222,
              "#7201a8"
             ],
             [
              0.3333333333333333,
              "#9c179e"
             ],
             [
              0.4444444444444444,
              "#bd3786"
             ],
             [
              0.5555555555555556,
              "#d8576b"
             ],
             [
              0.6666666666666666,
              "#ed7953"
             ],
             [
              0.7777777777777778,
              "#fb9f3a"
             ],
             [
              0.8888888888888888,
              "#fdca26"
             ],
             [
              1,
              "#f0f921"
             ]
            ],
            "type": "contour"
           }
          ],
          "contourcarpet": [
           {
            "colorbar": {
             "outlinewidth": 0,
             "ticks": ""
            },
            "type": "contourcarpet"
           }
          ],
          "heatmap": [
           {
            "colorbar": {
             "outlinewidth": 0,
             "ticks": ""
            },
            "colorscale": [
             [
              0,
              "#0d0887"
             ],
             [
              0.1111111111111111,
              "#46039f"
             ],
             [
              0.2222222222222222,
              "#7201a8"
             ],
             [
              0.3333333333333333,
              "#9c179e"
             ],
             [
              0.4444444444444444,
              "#bd3786"
             ],
             [
              0.5555555555555556,
              "#d8576b"
             ],
             [
              0.6666666666666666,
              "#ed7953"
             ],
             [
              0.7777777777777778,
              "#fb9f3a"
             ],
             [
              0.8888888888888888,
              "#fdca26"
             ],
             [
              1,
              "#f0f921"
             ]
            ],
            "type": "heatmap"
           }
          ],
          "heatmapgl": [
           {
            "colorbar": {
             "outlinewidth": 0,
             "ticks": ""
            },
            "colorscale": [
             [
              0,
              "#0d0887"
             ],
             [
              0.1111111111111111,
              "#46039f"
             ],
             [
              0.2222222222222222,
              "#7201a8"
             ],
             [
              0.3333333333333333,
              "#9c179e"
             ],
             [
              0.4444444444444444,
              "#bd3786"
             ],
             [
              0.5555555555555556,
              "#d8576b"
             ],
             [
              0.6666666666666666,
              "#ed7953"
             ],
             [
              0.7777777777777778,
              "#fb9f3a"
             ],
             [
              0.8888888888888888,
              "#fdca26"
             ],
             [
              1,
              "#f0f921"
             ]
            ],
            "type": "heatmapgl"
           }
          ],
          "histogram": [
           {
            "marker": {
             "pattern": {
              "fillmode": "overlay",
              "size": 10,
              "solidity": 0.2
             }
            },
            "type": "histogram"
           }
          ],
          "histogram2d": [
           {
            "colorbar": {
             "outlinewidth": 0,
             "ticks": ""
            },
            "colorscale": [
             [
              0,
              "#0d0887"
             ],
             [
              0.1111111111111111,
              "#46039f"
             ],
             [
              0.2222222222222222,
              "#7201a8"
             ],
             [
              0.3333333333333333,
              "#9c179e"
             ],
             [
              0.4444444444444444,
              "#bd3786"
             ],
             [
              0.5555555555555556,
              "#d8576b"
             ],
             [
              0.6666666666666666,
              "#ed7953"
             ],
             [
              0.7777777777777778,
              "#fb9f3a"
             ],
             [
              0.8888888888888888,
              "#fdca26"
             ],
             [
              1,
              "#f0f921"
             ]
            ],
            "type": "histogram2d"
           }
          ],
          "histogram2dcontour": [
           {
            "colorbar": {
             "outlinewidth": 0,
             "ticks": ""
            },
            "colorscale": [
             [
              0,
              "#0d0887"
             ],
             [
              0.1111111111111111,
              "#46039f"
             ],
             [
              0.2222222222222222,
              "#7201a8"
             ],
             [
              0.3333333333333333,
              "#9c179e"
             ],
             [
              0.4444444444444444,
              "#bd3786"
             ],
             [
              0.5555555555555556,
              "#d8576b"
             ],
             [
              0.6666666666666666,
              "#ed7953"
             ],
             [
              0.7777777777777778,
              "#fb9f3a"
             ],
             [
              0.8888888888888888,
              "#fdca26"
             ],
             [
              1,
              "#f0f921"
             ]
            ],
            "type": "histogram2dcontour"
           }
          ],
          "mesh3d": [
           {
            "colorbar": {
             "outlinewidth": 0,
             "ticks": ""
            },
            "type": "mesh3d"
           }
          ],
          "parcoords": [
           {
            "line": {
             "colorbar": {
              "outlinewidth": 0,
              "ticks": ""
             }
            },
            "type": "parcoords"
           }
          ],
          "pie": [
           {
            "automargin": true,
            "type": "pie"
           }
          ],
          "scatter": [
           {
            "fillpattern": {
             "fillmode": "overlay",
             "size": 10,
             "solidity": 0.2
            },
            "type": "scatter"
           }
          ],
          "scatter3d": [
           {
            "line": {
             "colorbar": {
              "outlinewidth": 0,
              "ticks": ""
             }
            },
            "marker": {
             "colorbar": {
              "outlinewidth": 0,
              "ticks": ""
             }
            },
            "type": "scatter3d"
           }
          ],
          "scattercarpet": [
           {
            "marker": {
             "colorbar": {
              "outlinewidth": 0,
              "ticks": ""
             }
            },
            "type": "scattercarpet"
           }
          ],
          "scattergeo": [
           {
            "marker": {
             "colorbar": {
              "outlinewidth": 0,
              "ticks": ""
             }
            },
            "type": "scattergeo"
           }
          ],
          "scattergl": [
           {
            "marker": {
             "colorbar": {
              "outlinewidth": 0,
              "ticks": ""
             }
            },
            "type": "scattergl"
           }
          ],
          "scattermapbox": [
           {
            "marker": {
             "colorbar": {
              "outlinewidth": 0,
              "ticks": ""
             }
            },
            "type": "scattermapbox"
           }
          ],
          "scatterpolar": [
           {
            "marker": {
             "colorbar": {
              "outlinewidth": 0,
              "ticks": ""
             }
            },
            "type": "scatterpolar"
           }
          ],
          "scatterpolargl": [
           {
            "marker": {
             "colorbar": {
              "outlinewidth": 0,
              "ticks": ""
             }
            },
            "type": "scatterpolargl"
           }
          ],
          "scatterternary": [
           {
            "marker": {
             "colorbar": {
              "outlinewidth": 0,
              "ticks": ""
             }
            },
            "type": "scatterternary"
           }
          ],
          "surface": [
           {
            "colorbar": {
             "outlinewidth": 0,
             "ticks": ""
            },
            "colorscale": [
             [
              0,
              "#0d0887"
             ],
             [
              0.1111111111111111,
              "#46039f"
             ],
             [
              0.2222222222222222,
              "#7201a8"
             ],
             [
              0.3333333333333333,
              "#9c179e"
             ],
             [
              0.4444444444444444,
              "#bd3786"
             ],
             [
              0.5555555555555556,
              "#d8576b"
             ],
             [
              0.6666666666666666,
              "#ed7953"
             ],
             [
              0.7777777777777778,
              "#fb9f3a"
             ],
             [
              0.8888888888888888,
              "#fdca26"
             ],
             [
              1,
              "#f0f921"
             ]
            ],
            "type": "surface"
           }
          ],
          "table": [
           {
            "cells": {
             "fill": {
              "color": "#EBF0F8"
             },
             "line": {
              "color": "white"
             }
            },
            "header": {
             "fill": {
              "color": "#C8D4E3"
             },
             "line": {
              "color": "white"
             }
            },
            "type": "table"
           }
          ]
         },
         "layout": {
          "annotationdefaults": {
           "arrowcolor": "#2a3f5f",
           "arrowhead": 0,
           "arrowwidth": 1
          },
          "autotypenumbers": "strict",
          "coloraxis": {
           "colorbar": {
            "outlinewidth": 0,
            "ticks": ""
           }
          },
          "colorscale": {
           "diverging": [
            [
             0,
             "#8e0152"
            ],
            [
             0.1,
             "#c51b7d"
            ],
            [
             0.2,
             "#de77ae"
            ],
            [
             0.3,
             "#f1b6da"
            ],
            [
             0.4,
             "#fde0ef"
            ],
            [
             0.5,
             "#f7f7f7"
            ],
            [
             0.6,
             "#e6f5d0"
            ],
            [
             0.7,
             "#b8e186"
            ],
            [
             0.8,
             "#7fbc41"
            ],
            [
             0.9,
             "#4d9221"
            ],
            [
             1,
             "#276419"
            ]
           ],
           "sequential": [
            [
             0,
             "#0d0887"
            ],
            [
             0.1111111111111111,
             "#46039f"
            ],
            [
             0.2222222222222222,
             "#7201a8"
            ],
            [
             0.3333333333333333,
             "#9c179e"
            ],
            [
             0.4444444444444444,
             "#bd3786"
            ],
            [
             0.5555555555555556,
             "#d8576b"
            ],
            [
             0.6666666666666666,
             "#ed7953"
            ],
            [
             0.7777777777777778,
             "#fb9f3a"
            ],
            [
             0.8888888888888888,
             "#fdca26"
            ],
            [
             1,
             "#f0f921"
            ]
           ],
           "sequentialminus": [
            [
             0,
             "#0d0887"
            ],
            [
             0.1111111111111111,
             "#46039f"
            ],
            [
             0.2222222222222222,
             "#7201a8"
            ],
            [
             0.3333333333333333,
             "#9c179e"
            ],
            [
             0.4444444444444444,
             "#bd3786"
            ],
            [
             0.5555555555555556,
             "#d8576b"
            ],
            [
             0.6666666666666666,
             "#ed7953"
            ],
            [
             0.7777777777777778,
             "#fb9f3a"
            ],
            [
             0.8888888888888888,
             "#fdca26"
            ],
            [
             1,
             "#f0f921"
            ]
           ]
          },
          "colorway": [
           "#636efa",
           "#EF553B",
           "#00cc96",
           "#ab63fa",
           "#FFA15A",
           "#19d3f3",
           "#FF6692",
           "#B6E880",
           "#FF97FF",
           "#FECB52"
          ],
          "font": {
           "color": "#2a3f5f"
          },
          "geo": {
           "bgcolor": "white",
           "lakecolor": "white",
           "landcolor": "#E5ECF6",
           "showlakes": true,
           "showland": true,
           "subunitcolor": "white"
          },
          "hoverlabel": {
           "align": "left"
          },
          "hovermode": "closest",
          "mapbox": {
           "style": "light"
          },
          "paper_bgcolor": "white",
          "plot_bgcolor": "#E5ECF6",
          "polar": {
           "angularaxis": {
            "gridcolor": "white",
            "linecolor": "white",
            "ticks": ""
           },
           "bgcolor": "#E5ECF6",
           "radialaxis": {
            "gridcolor": "white",
            "linecolor": "white",
            "ticks": ""
           }
          },
          "scene": {
           "xaxis": {
            "backgroundcolor": "#E5ECF6",
            "gridcolor": "white",
            "gridwidth": 2,
            "linecolor": "white",
            "showbackground": true,
            "ticks": "",
            "zerolinecolor": "white"
           },
           "yaxis": {
            "backgroundcolor": "#E5ECF6",
            "gridcolor": "white",
            "gridwidth": 2,
            "linecolor": "white",
            "showbackground": true,
            "ticks": "",
            "zerolinecolor": "white"
           },
           "zaxis": {
            "backgroundcolor": "#E5ECF6",
            "gridcolor": "white",
            "gridwidth": 2,
            "linecolor": "white",
            "showbackground": true,
            "ticks": "",
            "zerolinecolor": "white"
           }
          },
          "shapedefaults": {
           "line": {
            "color": "#2a3f5f"
           }
          },
          "ternary": {
           "aaxis": {
            "gridcolor": "white",
            "linecolor": "white",
            "ticks": ""
           },
           "baxis": {
            "gridcolor": "white",
            "linecolor": "white",
            "ticks": ""
           },
           "bgcolor": "#E5ECF6",
           "caxis": {
            "gridcolor": "white",
            "linecolor": "white",
            "ticks": ""
           }
          },
          "title": {
           "x": 0.05
          },
          "xaxis": {
           "automargin": true,
           "gridcolor": "white",
           "linecolor": "white",
           "ticks": "",
           "title": {
            "standoff": 15
           },
           "zerolinecolor": "white",
           "zerolinewidth": 2
          },
          "yaxis": {
           "automargin": true,
           "gridcolor": "white",
           "linecolor": "white",
           "ticks": "",
           "title": {
            "standoff": 15
           },
           "zerolinecolor": "white",
           "zerolinewidth": 2
          }
         }
        },
        "title": {
         "text": "Distribution of Critics Scores"
        },
        "xaxis": {
         "anchor": "y",
         "domain": [
          0,
          1
         ],
         "title": {
          "text": "Critics Score (%)"
         }
        },
        "yaxis": {
         "anchor": "x",
         "domain": [
          0,
          1
         ],
         "title": {
          "text": "Count"
         }
        }
       }
      }
     },
     "metadata": {},
     "output_type": "display_data"
    }
   ],
   "source": [
    "# Histogram for Critics Score\n",
    "fig_critics_hist = px.histogram(\n",
    "    df, \n",
    "    x='Critics Score', \n",
    "    nbins=20, \n",
    "    title='Distribution of Critics Scores',\n",
    "    labels={'Critics Score': 'Critics Score (%)'},\n",
    "    color_discrete_sequence=['red']\n",
    ")\n",
    "fig_critics_hist.update_layout(\n",
    "    xaxis_title='Critics Score (%)', \n",
    "    yaxis_title='Count'\n",
    ")\n",
    "fig_critics_hist.show()"
   ]
  },
  {
   "cell_type": "code",
   "execution_count": 19,
   "metadata": {},
   "outputs": [
    {
     "data": {
      "application/vnd.plotly.v1+json": {
       "config": {
        "plotlyServerURL": "https://plot.ly"
       },
       "data": [
        {
         "alignmentgroup": "True",
         "bingroup": "x",
         "hovertemplate": "Audience Score (%)=%{x}<br>count=%{y}<extra></extra>",
         "legendgroup": "",
         "marker": {
          "color": "#636efa",
          "pattern": {
           "shape": ""
          }
         },
         "name": "",
         "nbinsx": 20,
         "offsetgroup": "",
         "orientation": "v",
         "showlegend": false,
         "type": "histogram",
         "x": [
          60,
          79,
          23,
          53,
          94,
          91,
          91,
          65,
          95,
          89,
          70,
          50,
          52,
          90,
          91,
          73,
          84,
          56,
          86,
          55,
          88,
          76,
          94,
          75,
          78,
          84,
          93,
          59,
          70,
          94,
          81,
          83,
          81,
          49,
          74,
          46,
          78,
          92,
          94,
          52,
          84,
          57,
          73,
          92,
          61,
          94,
          87,
          74,
          77,
          88,
          63,
          72,
          97,
          68,
          70,
          84,
          86,
          85,
          36,
          59,
          82,
          82,
          93,
          91,
          43,
          36,
          51,
          90,
          69,
          83,
          86,
          56,
          82,
          74,
          70,
          91,
          88,
          95,
          90,
          97,
          45,
          86,
          30,
          98,
          95,
          98,
          68,
          87,
          91,
          92,
          94,
          89,
          81,
          82,
          79,
          76,
          84,
          73,
          64,
          84,
          75,
          92,
          66,
          87,
          80,
          41,
          57,
          91,
          97,
          42,
          97,
          71,
          44,
          84,
          81,
          70,
          65,
          90,
          95,
          60,
          77,
          61,
          86,
          30,
          85,
          84,
          72,
          36,
          94,
          95,
          94,
          81,
          77,
          89,
          68,
          49,
          56,
          90,
          54,
          86,
          92,
          94,
          99,
          98,
          69,
          65,
          89,
          77,
          62,
          53,
          86,
          90,
          66,
          73,
          24,
          98,
          94,
          94,
          87,
          96,
          71,
          59,
          94,
          65,
          15,
          91,
          92,
          89,
          91,
          86,
          76,
          85,
          83,
          93,
          73,
          46,
          76,
          92,
          93,
          67,
          82,
          91,
          78,
          72,
          88,
          72,
          51,
          61,
          83,
          50,
          77,
          91,
          72,
          76,
          91,
          96,
          55,
          85,
          83,
          93,
          93,
          59,
          89,
          96,
          87,
          76,
          84,
          54,
          67,
          97,
          53,
          82,
          79,
          45,
          98,
          44,
          22,
          55,
          76,
          58,
          91,
          60,
          33,
          76,
          64,
          29,
          80,
          40,
          80,
          70,
          82,
          96,
          82,
          91,
          90,
          79,
          97,
          63,
          79,
          96,
          86,
          92,
          75,
          79,
          64,
          91,
          99,
          78,
          90,
          88,
          89,
          98,
          95,
          62,
          92,
          65,
          73,
          86,
          41,
          100,
          92,
          78,
          87,
          80,
          70,
          94,
          31,
          88,
          88,
          96,
          86,
          41,
          32,
          90,
          77,
          86,
          53,
          94,
          97,
          67,
          92,
          25,
          88,
          87,
          87,
          63,
          74,
          74,
          69,
          44,
          80,
          86
         ],
         "xaxis": "x",
         "yaxis": "y"
        }
       ],
       "layout": {
        "barmode": "relative",
        "legend": {
         "tracegroupgap": 0
        },
        "template": {
         "data": {
          "bar": [
           {
            "error_x": {
             "color": "#2a3f5f"
            },
            "error_y": {
             "color": "#2a3f5f"
            },
            "marker": {
             "line": {
              "color": "#E5ECF6",
              "width": 0.5
             },
             "pattern": {
              "fillmode": "overlay",
              "size": 10,
              "solidity": 0.2
             }
            },
            "type": "bar"
           }
          ],
          "barpolar": [
           {
            "marker": {
             "line": {
              "color": "#E5ECF6",
              "width": 0.5
             },
             "pattern": {
              "fillmode": "overlay",
              "size": 10,
              "solidity": 0.2
             }
            },
            "type": "barpolar"
           }
          ],
          "carpet": [
           {
            "aaxis": {
             "endlinecolor": "#2a3f5f",
             "gridcolor": "white",
             "linecolor": "white",
             "minorgridcolor": "white",
             "startlinecolor": "#2a3f5f"
            },
            "baxis": {
             "endlinecolor": "#2a3f5f",
             "gridcolor": "white",
             "linecolor": "white",
             "minorgridcolor": "white",
             "startlinecolor": "#2a3f5f"
            },
            "type": "carpet"
           }
          ],
          "choropleth": [
           {
            "colorbar": {
             "outlinewidth": 0,
             "ticks": ""
            },
            "type": "choropleth"
           }
          ],
          "contour": [
           {
            "colorbar": {
             "outlinewidth": 0,
             "ticks": ""
            },
            "colorscale": [
             [
              0,
              "#0d0887"
             ],
             [
              0.1111111111111111,
              "#46039f"
             ],
             [
              0.2222222222222222,
              "#7201a8"
             ],
             [
              0.3333333333333333,
              "#9c179e"
             ],
             [
              0.4444444444444444,
              "#bd3786"
             ],
             [
              0.5555555555555556,
              "#d8576b"
             ],
             [
              0.6666666666666666,
              "#ed7953"
             ],
             [
              0.7777777777777778,
              "#fb9f3a"
             ],
             [
              0.8888888888888888,
              "#fdca26"
             ],
             [
              1,
              "#f0f921"
             ]
            ],
            "type": "contour"
           }
          ],
          "contourcarpet": [
           {
            "colorbar": {
             "outlinewidth": 0,
             "ticks": ""
            },
            "type": "contourcarpet"
           }
          ],
          "heatmap": [
           {
            "colorbar": {
             "outlinewidth": 0,
             "ticks": ""
            },
            "colorscale": [
             [
              0,
              "#0d0887"
             ],
             [
              0.1111111111111111,
              "#46039f"
             ],
             [
              0.2222222222222222,
              "#7201a8"
             ],
             [
              0.3333333333333333,
              "#9c179e"
             ],
             [
              0.4444444444444444,
              "#bd3786"
             ],
             [
              0.5555555555555556,
              "#d8576b"
             ],
             [
              0.6666666666666666,
              "#ed7953"
             ],
             [
              0.7777777777777778,
              "#fb9f3a"
             ],
             [
              0.8888888888888888,
              "#fdca26"
             ],
             [
              1,
              "#f0f921"
             ]
            ],
            "type": "heatmap"
           }
          ],
          "heatmapgl": [
           {
            "colorbar": {
             "outlinewidth": 0,
             "ticks": ""
            },
            "colorscale": [
             [
              0,
              "#0d0887"
             ],
             [
              0.1111111111111111,
              "#46039f"
             ],
             [
              0.2222222222222222,
              "#7201a8"
             ],
             [
              0.3333333333333333,
              "#9c179e"
             ],
             [
              0.4444444444444444,
              "#bd3786"
             ],
             [
              0.5555555555555556,
              "#d8576b"
             ],
             [
              0.6666666666666666,
              "#ed7953"
             ],
             [
              0.7777777777777778,
              "#fb9f3a"
             ],
             [
              0.8888888888888888,
              "#fdca26"
             ],
             [
              1,
              "#f0f921"
             ]
            ],
            "type": "heatmapgl"
           }
          ],
          "histogram": [
           {
            "marker": {
             "pattern": {
              "fillmode": "overlay",
              "size": 10,
              "solidity": 0.2
             }
            },
            "type": "histogram"
           }
          ],
          "histogram2d": [
           {
            "colorbar": {
             "outlinewidth": 0,
             "ticks": ""
            },
            "colorscale": [
             [
              0,
              "#0d0887"
             ],
             [
              0.1111111111111111,
              "#46039f"
             ],
             [
              0.2222222222222222,
              "#7201a8"
             ],
             [
              0.3333333333333333,
              "#9c179e"
             ],
             [
              0.4444444444444444,
              "#bd3786"
             ],
             [
              0.5555555555555556,
              "#d8576b"
             ],
             [
              0.6666666666666666,
              "#ed7953"
             ],
             [
              0.7777777777777778,
              "#fb9f3a"
             ],
             [
              0.8888888888888888,
              "#fdca26"
             ],
             [
              1,
              "#f0f921"
             ]
            ],
            "type": "histogram2d"
           }
          ],
          "histogram2dcontour": [
           {
            "colorbar": {
             "outlinewidth": 0,
             "ticks": ""
            },
            "colorscale": [
             [
              0,
              "#0d0887"
             ],
             [
              0.1111111111111111,
              "#46039f"
             ],
             [
              0.2222222222222222,
              "#7201a8"
             ],
             [
              0.3333333333333333,
              "#9c179e"
             ],
             [
              0.4444444444444444,
              "#bd3786"
             ],
             [
              0.5555555555555556,
              "#d8576b"
             ],
             [
              0.6666666666666666,
              "#ed7953"
             ],
             [
              0.7777777777777778,
              "#fb9f3a"
             ],
             [
              0.8888888888888888,
              "#fdca26"
             ],
             [
              1,
              "#f0f921"
             ]
            ],
            "type": "histogram2dcontour"
           }
          ],
          "mesh3d": [
           {
            "colorbar": {
             "outlinewidth": 0,
             "ticks": ""
            },
            "type": "mesh3d"
           }
          ],
          "parcoords": [
           {
            "line": {
             "colorbar": {
              "outlinewidth": 0,
              "ticks": ""
             }
            },
            "type": "parcoords"
           }
          ],
          "pie": [
           {
            "automargin": true,
            "type": "pie"
           }
          ],
          "scatter": [
           {
            "fillpattern": {
             "fillmode": "overlay",
             "size": 10,
             "solidity": 0.2
            },
            "type": "scatter"
           }
          ],
          "scatter3d": [
           {
            "line": {
             "colorbar": {
              "outlinewidth": 0,
              "ticks": ""
             }
            },
            "marker": {
             "colorbar": {
              "outlinewidth": 0,
              "ticks": ""
             }
            },
            "type": "scatter3d"
           }
          ],
          "scattercarpet": [
           {
            "marker": {
             "colorbar": {
              "outlinewidth": 0,
              "ticks": ""
             }
            },
            "type": "scattercarpet"
           }
          ],
          "scattergeo": [
           {
            "marker": {
             "colorbar": {
              "outlinewidth": 0,
              "ticks": ""
             }
            },
            "type": "scattergeo"
           }
          ],
          "scattergl": [
           {
            "marker": {
             "colorbar": {
              "outlinewidth": 0,
              "ticks": ""
             }
            },
            "type": "scattergl"
           }
          ],
          "scattermapbox": [
           {
            "marker": {
             "colorbar": {
              "outlinewidth": 0,
              "ticks": ""
             }
            },
            "type": "scattermapbox"
           }
          ],
          "scatterpolar": [
           {
            "marker": {
             "colorbar": {
              "outlinewidth": 0,
              "ticks": ""
             }
            },
            "type": "scatterpolar"
           }
          ],
          "scatterpolargl": [
           {
            "marker": {
             "colorbar": {
              "outlinewidth": 0,
              "ticks": ""
             }
            },
            "type": "scatterpolargl"
           }
          ],
          "scatterternary": [
           {
            "marker": {
             "colorbar": {
              "outlinewidth": 0,
              "ticks": ""
             }
            },
            "type": "scatterternary"
           }
          ],
          "surface": [
           {
            "colorbar": {
             "outlinewidth": 0,
             "ticks": ""
            },
            "colorscale": [
             [
              0,
              "#0d0887"
             ],
             [
              0.1111111111111111,
              "#46039f"
             ],
             [
              0.2222222222222222,
              "#7201a8"
             ],
             [
              0.3333333333333333,
              "#9c179e"
             ],
             [
              0.4444444444444444,
              "#bd3786"
             ],
             [
              0.5555555555555556,
              "#d8576b"
             ],
             [
              0.6666666666666666,
              "#ed7953"
             ],
             [
              0.7777777777777778,
              "#fb9f3a"
             ],
             [
              0.8888888888888888,
              "#fdca26"
             ],
             [
              1,
              "#f0f921"
             ]
            ],
            "type": "surface"
           }
          ],
          "table": [
           {
            "cells": {
             "fill": {
              "color": "#EBF0F8"
             },
             "line": {
              "color": "white"
             }
            },
            "header": {
             "fill": {
              "color": "#C8D4E3"
             },
             "line": {
              "color": "white"
             }
            },
            "type": "table"
           }
          ]
         },
         "layout": {
          "annotationdefaults": {
           "arrowcolor": "#2a3f5f",
           "arrowhead": 0,
           "arrowwidth": 1
          },
          "autotypenumbers": "strict",
          "coloraxis": {
           "colorbar": {
            "outlinewidth": 0,
            "ticks": ""
           }
          },
          "colorscale": {
           "diverging": [
            [
             0,
             "#8e0152"
            ],
            [
             0.1,
             "#c51b7d"
            ],
            [
             0.2,
             "#de77ae"
            ],
            [
             0.3,
             "#f1b6da"
            ],
            [
             0.4,
             "#fde0ef"
            ],
            [
             0.5,
             "#f7f7f7"
            ],
            [
             0.6,
             "#e6f5d0"
            ],
            [
             0.7,
             "#b8e186"
            ],
            [
             0.8,
             "#7fbc41"
            ],
            [
             0.9,
             "#4d9221"
            ],
            [
             1,
             "#276419"
            ]
           ],
           "sequential": [
            [
             0,
             "#0d0887"
            ],
            [
             0.1111111111111111,
             "#46039f"
            ],
            [
             0.2222222222222222,
             "#7201a8"
            ],
            [
             0.3333333333333333,
             "#9c179e"
            ],
            [
             0.4444444444444444,
             "#bd3786"
            ],
            [
             0.5555555555555556,
             "#d8576b"
            ],
            [
             0.6666666666666666,
             "#ed7953"
            ],
            [
             0.7777777777777778,
             "#fb9f3a"
            ],
            [
             0.8888888888888888,
             "#fdca26"
            ],
            [
             1,
             "#f0f921"
            ]
           ],
           "sequentialminus": [
            [
             0,
             "#0d0887"
            ],
            [
             0.1111111111111111,
             "#46039f"
            ],
            [
             0.2222222222222222,
             "#7201a8"
            ],
            [
             0.3333333333333333,
             "#9c179e"
            ],
            [
             0.4444444444444444,
             "#bd3786"
            ],
            [
             0.5555555555555556,
             "#d8576b"
            ],
            [
             0.6666666666666666,
             "#ed7953"
            ],
            [
             0.7777777777777778,
             "#fb9f3a"
            ],
            [
             0.8888888888888888,
             "#fdca26"
            ],
            [
             1,
             "#f0f921"
            ]
           ]
          },
          "colorway": [
           "#636efa",
           "#EF553B",
           "#00cc96",
           "#ab63fa",
           "#FFA15A",
           "#19d3f3",
           "#FF6692",
           "#B6E880",
           "#FF97FF",
           "#FECB52"
          ],
          "font": {
           "color": "#2a3f5f"
          },
          "geo": {
           "bgcolor": "white",
           "lakecolor": "white",
           "landcolor": "#E5ECF6",
           "showlakes": true,
           "showland": true,
           "subunitcolor": "white"
          },
          "hoverlabel": {
           "align": "left"
          },
          "hovermode": "closest",
          "mapbox": {
           "style": "light"
          },
          "paper_bgcolor": "white",
          "plot_bgcolor": "#E5ECF6",
          "polar": {
           "angularaxis": {
            "gridcolor": "white",
            "linecolor": "white",
            "ticks": ""
           },
           "bgcolor": "#E5ECF6",
           "radialaxis": {
            "gridcolor": "white",
            "linecolor": "white",
            "ticks": ""
           }
          },
          "scene": {
           "xaxis": {
            "backgroundcolor": "#E5ECF6",
            "gridcolor": "white",
            "gridwidth": 2,
            "linecolor": "white",
            "showbackground": true,
            "ticks": "",
            "zerolinecolor": "white"
           },
           "yaxis": {
            "backgroundcolor": "#E5ECF6",
            "gridcolor": "white",
            "gridwidth": 2,
            "linecolor": "white",
            "showbackground": true,
            "ticks": "",
            "zerolinecolor": "white"
           },
           "zaxis": {
            "backgroundcolor": "#E5ECF6",
            "gridcolor": "white",
            "gridwidth": 2,
            "linecolor": "white",
            "showbackground": true,
            "ticks": "",
            "zerolinecolor": "white"
           }
          },
          "shapedefaults": {
           "line": {
            "color": "#2a3f5f"
           }
          },
          "ternary": {
           "aaxis": {
            "gridcolor": "white",
            "linecolor": "white",
            "ticks": ""
           },
           "baxis": {
            "gridcolor": "white",
            "linecolor": "white",
            "ticks": ""
           },
           "bgcolor": "#E5ECF6",
           "caxis": {
            "gridcolor": "white",
            "linecolor": "white",
            "ticks": ""
           }
          },
          "title": {
           "x": 0.05
          },
          "xaxis": {
           "automargin": true,
           "gridcolor": "white",
           "linecolor": "white",
           "ticks": "",
           "title": {
            "standoff": 15
           },
           "zerolinecolor": "white",
           "zerolinewidth": 2
          },
          "yaxis": {
           "automargin": true,
           "gridcolor": "white",
           "linecolor": "white",
           "ticks": "",
           "title": {
            "standoff": 15
           },
           "zerolinecolor": "white",
           "zerolinewidth": 2
          }
         }
        },
        "title": {
         "text": "Distribution of Audience Scores"
        },
        "xaxis": {
         "anchor": "y",
         "domain": [
          0,
          1
         ],
         "title": {
          "text": "Audience Score (%)"
         }
        },
        "yaxis": {
         "anchor": "x",
         "domain": [
          0,
          1
         ],
         "title": {
          "text": "Count"
         }
        }
       }
      }
     },
     "metadata": {},
     "output_type": "display_data"
    }
   ],
   "source": [
    "# Histogram for Audience Score\n",
    "fig_audience_hist = px.histogram(\n",
    "    df, \n",
    "    x='Audience Score', \n",
    "    nbins=20, \n",
    "    title='Distribution of Audience Scores',\n",
    "    labels={'Audience Score': 'Audience Score (%)'}\n",
    ")\n",
    "fig_audience_hist.update_layout(\n",
    "    xaxis_title='Audience Score (%)', \n",
    "    yaxis_title='Count'\n",
    ")\n",
    "fig_audience_hist.show()"
   ]
  },
  {
   "cell_type": "markdown",
   "metadata": {},
   "source": [
    "#### 2. Correlation Between Critics and Audience Scores"
   ]
  },
  {
   "cell_type": "code",
   "execution_count": 23,
   "metadata": {},
   "outputs": [
    {
     "data": {
      "application/vnd.plotly.v1+json": {
       "config": {
        "plotlyServerURL": "https://plot.ly"
       },
       "data": [
        {
         "customdata": [
          [
           "Longlegs"
          ],
          [
           "Trap"
          ],
          [
           "Horizon: An American Saga - Chapter 1"
          ],
          [
           "The Killer"
          ],
          [
           "Alien: Covenant"
          ],
          [
           "Despicable Me 4"
          ],
          [
           "Immaculate"
          ],
          [
           "Kinds of Kindness"
          ],
          [
           "The Killer"
          ],
          [
           "Anyone But You"
          ],
          [
           "IF"
          ],
          [
           "Leave the World Behind"
          ],
          [
           "The Beast Within"
          ],
          [
           "Ghostbusters: Frozen Empire"
          ],
          [
           "Arcadian"
          ],
          [
           "The Marvels"
          ],
          [
           "Find Me Falling"
          ],
          [
           "Five Nights at Freddy's"
          ],
          [
           "Knox Goes Away"
          ],
          [
           "The Idea of You"
          ],
          [
           "The Garfield Movie"
          ],
          [
           "Godzilla x Kong: The New Empire"
          ],
          [
           "In a Violent Nature"
          ],
          [
           "Hillbilly Elegy"
          ],
          [
           "Reptile"
          ],
          [
           "The Devil's Bath"
          ],
          [
           "Once Upon a Deadpool"
          ],
          [
           "Sleeping Dogs"
          ],
          [
           "Argylle"
          ],
          [
           "Beverly Hills Cop: Axel F"
          ],
          [
           "Fair Play"
          ],
          [
           "Spaceman"
          ],
          [
           "Eternals"
          ],
          [
           "The Convert"
          ],
          [
           "Alone"
          ],
          [
           "Operation Mincemeat"
          ],
          [
           "Where the Crawdads Sing"
          ],
          [
           "Napoleon"
          ],
          [
           "Bob Marley: One Love"
          ],
          [
           "Bullet Train"
          ],
          [
           "Nocturnal Animals"
          ],
          [
           "Thor: Love and Thunder"
          ],
          [
           "The Little Things"
          ],
          [
           "Boy Kills World"
          ],
          [
           "The Flash"
          ],
          [
           "Stopmotion"
          ],
          [
           "The Accountant"
          ],
          [
           "One Fast Move"
          ],
          [
           "The Creator"
          ],
          [
           "Life"
          ],
          [
           "Starve Acre"
          ],
          [
           "Out of Darkness"
          ],
          [
           "Road House"
          ],
          [
           "Ant-Man and The Wasp: Quantumania"
          ],
          [
           "Saltburn"
          ],
          [
           "Captain Marvel"
          ],
          [
           "Speak No Evil"
          ],
          [
           "Damsel"
          ],
          [
           "The Nest"
          ],
          [
           "The King's Man"
          ],
          [
           "Joyride"
          ],
          [
           "Operation Fortune: Ruse de guerre"
          ],
          [
           "Midsommar"
          ],
          [
           "Back to Black"
          ],
          [
           "Kingsman: The Golden Circle"
          ],
          [
           "Transformers: Rise of the Beasts"
          ],
          [
           "The Gray Man"
          ],
          [
           "Red Notice"
          ],
          [
           "Shazam! Fury of the Gods"
          ],
          [
           "Star Wars: The Last Jedi"
          ],
          [
           "Star Wars: The Rise of Skywalker"
          ],
          [
           "Noah"
          ],
          [
           "Orphan: First Kill"
          ],
          [
           "Eileen"
          ],
          [
           "You'll Never Find Me"
          ],
          [
           "Knock at the Cabin"
          ],
          [
           "Ferrari"
          ],
          [
           "It Comes at Night"
          ],
          [
           "The Greatest Showman"
          ]
         ],
         "hovertemplate": "Score Category=Middle<br>Critics Score (%)=%{x}<br>Audience Score (%)=%{y}<br>Movie Name=%{customdata[0]}<extra></extra>",
         "legendgroup": "Middle",
         "marker": {
          "color": "yellow",
          "symbol": "circle"
         },
         "mode": "markers",
         "name": "Middle",
         "orientation": "v",
         "showlegend": true,
         "type": "scatter",
         "x": [
          86,
          55,
          49,
          58,
          65,
          56,
          71,
          72,
          85,
          52,
          50,
          73,
          38,
          42,
          77,
          62,
          41,
          32,
          64,
          81,
          36,
          54,
          78,
          24,
          44,
          90,
          56,
          42,
          33,
          66,
          85,
          50,
          47,
          83,
          94,
          83,
          34,
          58,
          45,
          53,
          74,
          63,
          45,
          59,
          63,
          91,
          53,
          38,
          67,
          67,
          86,
          86,
          59,
          46,
          71,
          79,
          84,
          56,
          90,
          41,
          51,
          51,
          83,
          35,
          50,
          52,
          45,
          37,
          49,
          91,
          51,
          75,
          71,
          82,
          81,
          67,
          72,
          88,
          57
         ],
         "xaxis": "x",
         "y": [
          60,
          65,
          70,
          52,
          55,
          88,
          59,
          49,
          61,
          87,
          88,
          36,
          69,
          83,
          56,
          82,
          68,
          87,
          84,
          66,
          80,
          91,
          44,
          81,
          70,
          60,
          61,
          85,
          72,
          77,
          54,
          65,
          77,
          62,
          53,
          66,
          96,
          59,
          92,
          76,
          73,
          76,
          67,
          72,
          83,
          50,
          77,
          72,
          76,
          55,
          59,
          54,
          53,
          82,
          79,
          45,
          55,
          60,
          40,
          80,
          70,
          82,
          63,
          86,
          64,
          91,
          90,
          92,
          86,
          41,
          86,
          41,
          77,
          53,
          67,
          63,
          74,
          44,
          86
         ],
         "yaxis": "y"
        },
        {
         "customdata": [
          [
           "Oddity"
          ],
          [
           "Ghostlight"
          ],
          [
           "Twisters"
          ],
          [
           "Hit Man"
          ],
          [
           "Inside Out 2"
          ],
          [
           "Furiosa: A Mad Max Saga"
          ],
          [
           "The Crow"
          ],
          [
           "Fly Me to the Moon"
          ],
          [
           "A Quiet Place: Day One"
          ],
          [
           "Thelma"
          ],
          [
           "The Fall Guy"
          ],
          [
           "Logan Lucky"
          ],
          [
           "Alien"
          ],
          [
           "The Bikeriders"
          ],
          [
           "Kingdom of the Planet of the Apes"
          ],
          [
           "Monkey Man"
          ],
          [
           "The Ministry of Ungentlemanly Warfare"
          ],
          [
           "Civil War"
          ],
          [
           "Aliens"
          ],
          [
           "Late Night with the Devil"
          ],
          [
           "Pearl"
          ],
          [
           "Green Border"
          ],
          [
           "Coraline"
          ],
          [
           "MaXXXine"
          ],
          [
           "The Beekeeper"
          ],
          [
           "Land of Bad"
          ],
          [
           "Kill"
          ],
          [
           "Challengers"
          ],
          [
           "Wicked Little Letters"
          ],
          [
           "The Secret Art of Human Flight"
          ],
          [
           "Bone Tomahawk"
          ],
          [
           "Everything Everywhere All at Once"
          ],
          [
           "I Saw the TV Glow"
          ],
          [
           "Bad Boys: Ride or Die"
          ],
          [
           "First Man"
          ],
          [
           "New Life"
          ],
          [
           "Watchmen Chapter I"
          ],
          [
           "Crumb Catcher"
          ],
          [
           "Abigail"
          ],
          [
           "Beetlejuice"
          ],
          [
           "Love Lies Bleeding"
          ],
          [
           "Shaun of the Dead"
          ],
          [
           "Marvel's the Avengers"
          ],
          [
           "Deadpool"
          ],
          [
           "Mad Max: Fury Road"
          ],
          [
           "Prey"
          ],
          [
           "The First Omen"
          ],
          [
           "Blue Beetle"
          ],
          [
           "Migration"
          ],
          [
           "Dune: Part Two"
          ],
          [
           "Avengers: Endgame"
          ],
          [
           "The Long Game"
          ],
          [
           "Interstellar"
          ],
          [
           "Spider-Man: No Way Home"
          ],
          [
           "Dark Waters"
          ],
          [
           "Godzilla Minus One"
          ],
          [
           "Oppenheimer"
          ],
          [
           "The Holdovers"
          ],
          [
           "Mission: Impossible - Dead Reckoning Part One"
          ],
          [
           "Daddio"
          ],
          [
           "The King Tide"
          ],
          [
           "Talk to Me"
          ],
          [
           "Poor Things"
          ],
          [
           "X"
          ],
          [
           "The Gentlemen"
          ],
          [
           "His House"
          ],
          [
           "LaRoy, Texas"
          ],
          [
           "The Gift"
          ],
          [
           "Touch"
          ],
          [
           "The Batman"
          ],
          [
           "Arthur the King"
          ],
          [
           "Young Woman and the Sea"
          ],
          [
           "Barbarian"
          ],
          [
           "Kingsman: The Secret Service"
          ],
          [
           "Infested"
          ],
          [
           "Logan"
          ],
          [
           "The Super Mario Bros. Movie"
          ],
          [
           "Smile"
          ],
          [
           "Deadpool 2"
          ],
          [
           "Killers of the Flower Moon"
          ],
          [
           "One Life"
          ],
          [
           "The Promised Land"
          ],
          [
           "Guardians of the Galaxy Vol. 3"
          ],
          [
           "Aftersun"
          ],
          [
           "Inside Out"
          ],
          [
           "Dream Scenario"
          ],
          [
           "Parasite"
          ],
          [
           "Get Out"
          ],
          [
           "Avengers: Infinity War"
          ],
          [
           "Spider-Man: Across the Spider-Verse"
          ],
          [
           "Top Gun: Maverick"
          ],
          [
           "The Godfather"
          ],
          [
           "Nope"
          ],
          [
           "The Hunger Games: The Ballad of Songbirds & Snakes"
          ],
          [
           "Bank of Dave"
          ],
          [
           "Anatomy of a Fall"
          ],
          [
           "A Simple Favor"
          ],
          [
           "Shang-Chi and the Legend of the Ten Rings"
          ],
          [
           "The Iron Claw"
          ],
          [
           "The Dark Knight"
          ],
          [
           "No Hard Feelings"
          ],
          [
           "Hereditary"
          ],
          [
           "Black Panther: Wakanda Forever"
          ],
          [
           "All of Us Strangers"
          ],
          [
           "Joker"
          ],
          [
           "Iron Man"
          ],
          [
           "To Leslie"
          ],
          [
           "American Psycho"
          ],
          [
           "Barbie"
          ],
          [
           "John Wick: Chapter 4"
          ],
          [
           "Avatar: The Way of Water"
          ],
          [
           "Dungeons & Dragons: Honor Among Thieves"
          ],
          [
           "The Cat Returns"
          ],
          [
           "The Whale"
          ],
          [
           "The Zone of Interest"
          ],
          [
           "The Babadook"
          ],
          [
           "The Boy and the Heron"
          ],
          [
           "Black Widow"
          ],
          [
           "Wonka"
          ],
          [
           "American Fiction"
          ],
          [
           "Doctor Strange in the Multiverse of Madness"
          ],
          [
           "A Quiet Place"
          ],
          [
           "Past Lives"
          ],
          [
           "Zack Snyder's Justice League"
          ],
          [
           "Perfect Days"
          ],
          [
           "The Peanut Butter Falcon"
          ],
          [
           "Gladiator"
          ],
          [
           "The Power of the Dog"
          ],
          [
           "War for the Planet of the Apes"
          ],
          [
           "The Dead Don't Hurt"
          ],
          [
           "Seven Samurai"
          ],
          [
           "Guy Ritchie's The Covenant"
          ],
          [
           "Evil Dead Rise"
          ],
          [
           "Hunt for the Wilderpeople"
          ],
          [
           "The Menu"
          ],
          [
           "Thanksgiving"
          ],
          [
           "Spirited Away"
          ],
          [
           "Avengers: Age of Ultron"
          ],
          [
           "X-Men: Days of Future Past"
          ],
          [
           "Dune"
          ],
          [
           "Leave No Trace"
          ],
          [
           "A Man Called Otto"
          ],
          [
           "Don't Breathe"
          ],
          [
           "Fight Club"
          ],
          [
           "A Quiet Place Part II"
          ],
          [
           "In the Land of Saints and Sinners"
          ],
          [
           "Babes"
          ],
          [
           "Ordinary Angels"
          ],
          [
           "When Evil Lurks"
          ],
          [
           "Indiana Jones and the Dial of Destiny"
          ],
          [
           "Captain America: Civil War"
          ],
          [
           "Cabrini"
          ],
          [
           "Spider-Man: Far From Home"
          ],
          [
           "May December"
          ],
          [
           "The Last Stop in Yuma County"
          ],
          [
           "The Duel"
          ],
          [
           "Knives Out"
          ],
          [
           "M3GAN"
          ],
          [
           "Predator"
          ],
          [
           "Weird: The Al Yankovic Story"
          ],
          [
           "Once Upon a Time... In Hollywood"
          ],
          [
           "The Little Mermaid"
          ],
          [
           "Upgrade"
          ],
          [
           "Blade Runner 2049"
          ],
          [
           "Sonic the Hedgehog 2"
          ],
          [
           "Marcel the Shell with Shoes On"
          ],
          [
           "Kung Fu Panda 4"
          ],
          [
           "Free Guy"
          ],
          [
           "The Boys in the Boat"
          ],
          [
           "Captain America: The Winter Soldier"
          ],
          [
           "Paddington 2"
          ],
          [
           "The Abandon"
          ],
          [
           "Spider-Man: Homecoming"
          ],
          [
           "How to Rob a Bank"
          ],
          [
           "Titanic"
          ],
          [
           "The Nature of Love"
          ]
         ],
         "hovertemplate": "Score Category=High<br>Critics Score (%)=%{x}<br>Audience Score (%)=%{y}<br>Movie Name=%{customdata[0]}<extra></extra>",
         "legendgroup": "High",
         "marker": {
          "color": "green",
          "symbol": "circle"
         },
         "mode": "markers",
         "name": "High",
         "orientation": "v",
         "showlegend": true,
         "type": "scatter",
         "x": [
          96,
          100,
          75,
          95,
          91,
          90,
          86,
          65,
          86,
          99,
          82,
          92,
          93,
          80,
          80,
          89,
          69,
          81,
          94,
          97,
          92,
          94,
          91,
          73,
          71,
          67,
          90,
          88,
          80,
          93,
          91,
          93,
          84,
          65,
          87,
          93,
          89,
          90,
          83,
          82,
          94,
          92,
          91,
          85,
          97,
          94,
          81,
          77,
          73,
          92,
          94,
          82,
          73,
          93,
          89,
          98,
          93,
          97,
          96,
          77,
          95,
          94,
          92,
          94,
          75,
          100,
          100,
          91,
          92,
          85,
          70,
          89,
          92,
          75,
          95,
          93,
          59,
          80,
          84,
          93,
          90,
          97,
          82,
          96,
          98,
          91,
          99,
          98,
          85,
          95,
          96,
          97,
          83,
          64,
          86,
          96,
          84,
          91,
          89,
          94,
          70,
          90,
          84,
          96,
          69,
          94,
          93,
          68,
          88,
          94,
          76,
          91,
          88,
          64,
          93,
          98,
          97,
          79,
          82,
          93,
          74,
          96,
          95,
          71,
          96,
          95,
          80,
          94,
          94,
          85,
          100,
          83,
          84,
          97,
          88,
          84,
          96,
          76,
          90,
          83,
          100,
          70,
          88,
          80,
          91,
          84,
          88,
          84,
          96,
          70,
          90,
          90,
          91,
          91,
          96,
          57,
          97,
          93,
          80,
          84,
          86,
          67,
          88,
          88,
          68,
          98,
          71,
          80,
          57,
          90,
          99,
          92,
          92,
          100,
          88,
          92
         ],
         "xaxis": "x",
         "y": [
          79,
          94,
          91,
          91,
          95,
          89,
          90,
          91,
          73,
          84,
          86,
          76,
          94,
          75,
          78,
          84,
          93,
          70,
          94,
          81,
          83,
          81,
          74,
          78,
          92,
          94,
          84,
          73,
          92,
          94,
          74,
          77,
          72,
          97,
          68,
          70,
          84,
          86,
          85,
          82,
          82,
          93,
          91,
          90,
          86,
          74,
          70,
          91,
          88,
          95,
          90,
          97,
          86,
          98,
          95,
          98,
          91,
          92,
          94,
          89,
          81,
          82,
          79,
          76,
          84,
          73,
          64,
          75,
          92,
          87,
          97,
          97,
          71,
          84,
          65,
          90,
          95,
          77,
          86,
          84,
          94,
          95,
          94,
          81,
          89,
          68,
          90,
          86,
          92,
          94,
          99,
          98,
          69,
          89,
          86,
          90,
          73,
          98,
          94,
          94,
          87,
          71,
          94,
          91,
          89,
          91,
          86,
          85,
          83,
          93,
          92,
          93,
          82,
          91,
          78,
          72,
          88,
          91,
          91,
          96,
          85,
          83,
          93,
          93,
          89,
          96,
          87,
          76,
          84,
          67,
          97,
          98,
          76,
          91,
          76,
          80,
          96,
          82,
          91,
          90,
          79,
          97,
          79,
          96,
          92,
          75,
          79,
          99,
          78,
          88,
          89,
          98,
          95,
          65,
          73,
          100,
          92,
          78,
          87,
          80,
          70,
          94,
          88,
          88,
          96,
          90,
          86,
          94,
          97,
          92,
          88,
          87,
          87,
          74,
          69,
          80
         ],
         "yaxis": "y"
        },
        {
         "customdata": [
          [
           "The Union"
          ],
          [
           "Borderlands"
          ],
          [
           "Jackpot!"
          ],
          [
           "The Instigators"
          ],
          [
           "Alien 3"
          ],
          [
           "The Watchers"
          ],
          [
           "Madame Web"
          ],
          [
           "Passengers"
          ],
          [
           "Tarot"
          ],
          [
           "Night Swim"
          ],
          [
           "Drive-Away Dolls"
          ],
          [
           "Why Him?"
          ],
          [
           "Mothers' Instinct"
          ],
          [
           "A Family Affair"
          ],
          [
           "Fifty Shades of Grey"
          ],
          [
           "The Other Woman"
          ],
          [
           "Miller's Girl"
          ],
          [
           "Aliens vs. Predator: Requiem"
          ],
          [
           "The Emoji Movie"
          ],
          [
           "Joe Rogan: Burn the Boats"
          ],
          [
           "Rebel Moon: Part One - A Child of Fire"
          ],
          [
           "Bokeh"
          ],
          [
           "After"
          ],
          [
           "Trigger Warning"
          ],
          [
           "Atlas"
          ],
          [
           "Unfrosted"
          ],
          [
           "French Girl"
          ],
          [
           "The Strangers: Chapter 1"
          ],
          [
           "Saving Bikini Bottom: The Sandy Cheeks Movie"
          ],
          [
           "X-Men Origins: Wolverine"
          ],
          [
           "Lift"
          ],
          [
           "Dark Phoenix"
          ],
          [
           "Crescent City"
          ],
          [
           "Grown Ups"
          ],
          [
           "Under Paris"
          ],
          [
           "The Predator"
          ],
          [
           "Consumed"
          ]
         ],
         "hovertemplate": "Score Category=Low<br>Critics Score (%)=%{x}<br>Audience Score (%)=%{y}<br>Movie Name=%{customdata[0]}<extra></extra>",
         "legendgroup": "Low",
         "marker": {
          "color": "red",
          "symbol": "circle"
         },
         "mode": "markers",
         "name": "Low",
         "orientation": "v",
         "showlegend": true,
         "type": "scatter",
         "x": [
          36,
          10,
          30,
          41,
          44,
          32,
          11,
          30,
          18,
          20,
          63,
          39,
          53,
          35,
          25,
          26,
          29,
          12,
          6,
          0,
          22,
          45,
          18,
          20,
          19,
          42,
          29,
          21,
          64,
          38,
          29,
          22,
          17,
          10,
          61,
          34,
          18
         ],
         "xaxis": "x",
         "y": [
          23,
          53,
          50,
          56,
          46,
          52,
          57,
          63,
          59,
          43,
          36,
          51,
          45,
          30,
          41,
          57,
          42,
          30,
          36,
          49,
          56,
          24,
          65,
          15,
          46,
          51,
          61,
          44,
          22,
          58,
          33,
          64,
          29,
          62,
          31,
          32,
          25
         ],
         "yaxis": "y"
        }
       ],
       "layout": {
        "legend": {
         "title": {
          "text": "Score Category"
         },
         "tracegroupgap": 0
        },
        "template": {
         "data": {
          "bar": [
           {
            "error_x": {
             "color": "#2a3f5f"
            },
            "error_y": {
             "color": "#2a3f5f"
            },
            "marker": {
             "line": {
              "color": "#E5ECF6",
              "width": 0.5
             },
             "pattern": {
              "fillmode": "overlay",
              "size": 10,
              "solidity": 0.2
             }
            },
            "type": "bar"
           }
          ],
          "barpolar": [
           {
            "marker": {
             "line": {
              "color": "#E5ECF6",
              "width": 0.5
             },
             "pattern": {
              "fillmode": "overlay",
              "size": 10,
              "solidity": 0.2
             }
            },
            "type": "barpolar"
           }
          ],
          "carpet": [
           {
            "aaxis": {
             "endlinecolor": "#2a3f5f",
             "gridcolor": "white",
             "linecolor": "white",
             "minorgridcolor": "white",
             "startlinecolor": "#2a3f5f"
            },
            "baxis": {
             "endlinecolor": "#2a3f5f",
             "gridcolor": "white",
             "linecolor": "white",
             "minorgridcolor": "white",
             "startlinecolor": "#2a3f5f"
            },
            "type": "carpet"
           }
          ],
          "choropleth": [
           {
            "colorbar": {
             "outlinewidth": 0,
             "ticks": ""
            },
            "type": "choropleth"
           }
          ],
          "contour": [
           {
            "colorbar": {
             "outlinewidth": 0,
             "ticks": ""
            },
            "colorscale": [
             [
              0,
              "#0d0887"
             ],
             [
              0.1111111111111111,
              "#46039f"
             ],
             [
              0.2222222222222222,
              "#7201a8"
             ],
             [
              0.3333333333333333,
              "#9c179e"
             ],
             [
              0.4444444444444444,
              "#bd3786"
             ],
             [
              0.5555555555555556,
              "#d8576b"
             ],
             [
              0.6666666666666666,
              "#ed7953"
             ],
             [
              0.7777777777777778,
              "#fb9f3a"
             ],
             [
              0.8888888888888888,
              "#fdca26"
             ],
             [
              1,
              "#f0f921"
             ]
            ],
            "type": "contour"
           }
          ],
          "contourcarpet": [
           {
            "colorbar": {
             "outlinewidth": 0,
             "ticks": ""
            },
            "type": "contourcarpet"
           }
          ],
          "heatmap": [
           {
            "colorbar": {
             "outlinewidth": 0,
             "ticks": ""
            },
            "colorscale": [
             [
              0,
              "#0d0887"
             ],
             [
              0.1111111111111111,
              "#46039f"
             ],
             [
              0.2222222222222222,
              "#7201a8"
             ],
             [
              0.3333333333333333,
              "#9c179e"
             ],
             [
              0.4444444444444444,
              "#bd3786"
             ],
             [
              0.5555555555555556,
              "#d8576b"
             ],
             [
              0.6666666666666666,
              "#ed7953"
             ],
             [
              0.7777777777777778,
              "#fb9f3a"
             ],
             [
              0.8888888888888888,
              "#fdca26"
             ],
             [
              1,
              "#f0f921"
             ]
            ],
            "type": "heatmap"
           }
          ],
          "heatmapgl": [
           {
            "colorbar": {
             "outlinewidth": 0,
             "ticks": ""
            },
            "colorscale": [
             [
              0,
              "#0d0887"
             ],
             [
              0.1111111111111111,
              "#46039f"
             ],
             [
              0.2222222222222222,
              "#7201a8"
             ],
             [
              0.3333333333333333,
              "#9c179e"
             ],
             [
              0.4444444444444444,
              "#bd3786"
             ],
             [
              0.5555555555555556,
              "#d8576b"
             ],
             [
              0.6666666666666666,
              "#ed7953"
             ],
             [
              0.7777777777777778,
              "#fb9f3a"
             ],
             [
              0.8888888888888888,
              "#fdca26"
             ],
             [
              1,
              "#f0f921"
             ]
            ],
            "type": "heatmapgl"
           }
          ],
          "histogram": [
           {
            "marker": {
             "pattern": {
              "fillmode": "overlay",
              "size": 10,
              "solidity": 0.2
             }
            },
            "type": "histogram"
           }
          ],
          "histogram2d": [
           {
            "colorbar": {
             "outlinewidth": 0,
             "ticks": ""
            },
            "colorscale": [
             [
              0,
              "#0d0887"
             ],
             [
              0.1111111111111111,
              "#46039f"
             ],
             [
              0.2222222222222222,
              "#7201a8"
             ],
             [
              0.3333333333333333,
              "#9c179e"
             ],
             [
              0.4444444444444444,
              "#bd3786"
             ],
             [
              0.5555555555555556,
              "#d8576b"
             ],
             [
              0.6666666666666666,
              "#ed7953"
             ],
             [
              0.7777777777777778,
              "#fb9f3a"
             ],
             [
              0.8888888888888888,
              "#fdca26"
             ],
             [
              1,
              "#f0f921"
             ]
            ],
            "type": "histogram2d"
           }
          ],
          "histogram2dcontour": [
           {
            "colorbar": {
             "outlinewidth": 0,
             "ticks": ""
            },
            "colorscale": [
             [
              0,
              "#0d0887"
             ],
             [
              0.1111111111111111,
              "#46039f"
             ],
             [
              0.2222222222222222,
              "#7201a8"
             ],
             [
              0.3333333333333333,
              "#9c179e"
             ],
             [
              0.4444444444444444,
              "#bd3786"
             ],
             [
              0.5555555555555556,
              "#d8576b"
             ],
             [
              0.6666666666666666,
              "#ed7953"
             ],
             [
              0.7777777777777778,
              "#fb9f3a"
             ],
             [
              0.8888888888888888,
              "#fdca26"
             ],
             [
              1,
              "#f0f921"
             ]
            ],
            "type": "histogram2dcontour"
           }
          ],
          "mesh3d": [
           {
            "colorbar": {
             "outlinewidth": 0,
             "ticks": ""
            },
            "type": "mesh3d"
           }
          ],
          "parcoords": [
           {
            "line": {
             "colorbar": {
              "outlinewidth": 0,
              "ticks": ""
             }
            },
            "type": "parcoords"
           }
          ],
          "pie": [
           {
            "automargin": true,
            "type": "pie"
           }
          ],
          "scatter": [
           {
            "fillpattern": {
             "fillmode": "overlay",
             "size": 10,
             "solidity": 0.2
            },
            "type": "scatter"
           }
          ],
          "scatter3d": [
           {
            "line": {
             "colorbar": {
              "outlinewidth": 0,
              "ticks": ""
             }
            },
            "marker": {
             "colorbar": {
              "outlinewidth": 0,
              "ticks": ""
             }
            },
            "type": "scatter3d"
           }
          ],
          "scattercarpet": [
           {
            "marker": {
             "colorbar": {
              "outlinewidth": 0,
              "ticks": ""
             }
            },
            "type": "scattercarpet"
           }
          ],
          "scattergeo": [
           {
            "marker": {
             "colorbar": {
              "outlinewidth": 0,
              "ticks": ""
             }
            },
            "type": "scattergeo"
           }
          ],
          "scattergl": [
           {
            "marker": {
             "colorbar": {
              "outlinewidth": 0,
              "ticks": ""
             }
            },
            "type": "scattergl"
           }
          ],
          "scattermapbox": [
           {
            "marker": {
             "colorbar": {
              "outlinewidth": 0,
              "ticks": ""
             }
            },
            "type": "scattermapbox"
           }
          ],
          "scatterpolar": [
           {
            "marker": {
             "colorbar": {
              "outlinewidth": 0,
              "ticks": ""
             }
            },
            "type": "scatterpolar"
           }
          ],
          "scatterpolargl": [
           {
            "marker": {
             "colorbar": {
              "outlinewidth": 0,
              "ticks": ""
             }
            },
            "type": "scatterpolargl"
           }
          ],
          "scatterternary": [
           {
            "marker": {
             "colorbar": {
              "outlinewidth": 0,
              "ticks": ""
             }
            },
            "type": "scatterternary"
           }
          ],
          "surface": [
           {
            "colorbar": {
             "outlinewidth": 0,
             "ticks": ""
            },
            "colorscale": [
             [
              0,
              "#0d0887"
             ],
             [
              0.1111111111111111,
              "#46039f"
             ],
             [
              0.2222222222222222,
              "#7201a8"
             ],
             [
              0.3333333333333333,
              "#9c179e"
             ],
             [
              0.4444444444444444,
              "#bd3786"
             ],
             [
              0.5555555555555556,
              "#d8576b"
             ],
             [
              0.6666666666666666,
              "#ed7953"
             ],
             [
              0.7777777777777778,
              "#fb9f3a"
             ],
             [
              0.8888888888888888,
              "#fdca26"
             ],
             [
              1,
              "#f0f921"
             ]
            ],
            "type": "surface"
           }
          ],
          "table": [
           {
            "cells": {
             "fill": {
              "color": "#EBF0F8"
             },
             "line": {
              "color": "white"
             }
            },
            "header": {
             "fill": {
              "color": "#C8D4E3"
             },
             "line": {
              "color": "white"
             }
            },
            "type": "table"
           }
          ]
         },
         "layout": {
          "annotationdefaults": {
           "arrowcolor": "#2a3f5f",
           "arrowhead": 0,
           "arrowwidth": 1
          },
          "autotypenumbers": "strict",
          "coloraxis": {
           "colorbar": {
            "outlinewidth": 0,
            "ticks": ""
           }
          },
          "colorscale": {
           "diverging": [
            [
             0,
             "#8e0152"
            ],
            [
             0.1,
             "#c51b7d"
            ],
            [
             0.2,
             "#de77ae"
            ],
            [
             0.3,
             "#f1b6da"
            ],
            [
             0.4,
             "#fde0ef"
            ],
            [
             0.5,
             "#f7f7f7"
            ],
            [
             0.6,
             "#e6f5d0"
            ],
            [
             0.7,
             "#b8e186"
            ],
            [
             0.8,
             "#7fbc41"
            ],
            [
             0.9,
             "#4d9221"
            ],
            [
             1,
             "#276419"
            ]
           ],
           "sequential": [
            [
             0,
             "#0d0887"
            ],
            [
             0.1111111111111111,
             "#46039f"
            ],
            [
             0.2222222222222222,
             "#7201a8"
            ],
            [
             0.3333333333333333,
             "#9c179e"
            ],
            [
             0.4444444444444444,
             "#bd3786"
            ],
            [
             0.5555555555555556,
             "#d8576b"
            ],
            [
             0.6666666666666666,
             "#ed7953"
            ],
            [
             0.7777777777777778,
             "#fb9f3a"
            ],
            [
             0.8888888888888888,
             "#fdca26"
            ],
            [
             1,
             "#f0f921"
            ]
           ],
           "sequentialminus": [
            [
             0,
             "#0d0887"
            ],
            [
             0.1111111111111111,
             "#46039f"
            ],
            [
             0.2222222222222222,
             "#7201a8"
            ],
            [
             0.3333333333333333,
             "#9c179e"
            ],
            [
             0.4444444444444444,
             "#bd3786"
            ],
            [
             0.5555555555555556,
             "#d8576b"
            ],
            [
             0.6666666666666666,
             "#ed7953"
            ],
            [
             0.7777777777777778,
             "#fb9f3a"
            ],
            [
             0.8888888888888888,
             "#fdca26"
            ],
            [
             1,
             "#f0f921"
            ]
           ]
          },
          "colorway": [
           "#636efa",
           "#EF553B",
           "#00cc96",
           "#ab63fa",
           "#FFA15A",
           "#19d3f3",
           "#FF6692",
           "#B6E880",
           "#FF97FF",
           "#FECB52"
          ],
          "font": {
           "color": "#2a3f5f"
          },
          "geo": {
           "bgcolor": "white",
           "lakecolor": "white",
           "landcolor": "#E5ECF6",
           "showlakes": true,
           "showland": true,
           "subunitcolor": "white"
          },
          "hoverlabel": {
           "align": "left"
          },
          "hovermode": "closest",
          "mapbox": {
           "style": "light"
          },
          "paper_bgcolor": "white",
          "plot_bgcolor": "#E5ECF6",
          "polar": {
           "angularaxis": {
            "gridcolor": "white",
            "linecolor": "white",
            "ticks": ""
           },
           "bgcolor": "#E5ECF6",
           "radialaxis": {
            "gridcolor": "white",
            "linecolor": "white",
            "ticks": ""
           }
          },
          "scene": {
           "xaxis": {
            "backgroundcolor": "#E5ECF6",
            "gridcolor": "white",
            "gridwidth": 2,
            "linecolor": "white",
            "showbackground": true,
            "ticks": "",
            "zerolinecolor": "white"
           },
           "yaxis": {
            "backgroundcolor": "#E5ECF6",
            "gridcolor": "white",
            "gridwidth": 2,
            "linecolor": "white",
            "showbackground": true,
            "ticks": "",
            "zerolinecolor": "white"
           },
           "zaxis": {
            "backgroundcolor": "#E5ECF6",
            "gridcolor": "white",
            "gridwidth": 2,
            "linecolor": "white",
            "showbackground": true,
            "ticks": "",
            "zerolinecolor": "white"
           }
          },
          "shapedefaults": {
           "line": {
            "color": "#2a3f5f"
           }
          },
          "ternary": {
           "aaxis": {
            "gridcolor": "white",
            "linecolor": "white",
            "ticks": ""
           },
           "baxis": {
            "gridcolor": "white",
            "linecolor": "white",
            "ticks": ""
           },
           "bgcolor": "#E5ECF6",
           "caxis": {
            "gridcolor": "white",
            "linecolor": "white",
            "ticks": ""
           }
          },
          "title": {
           "x": 0.05
          },
          "xaxis": {
           "automargin": true,
           "gridcolor": "white",
           "linecolor": "white",
           "ticks": "",
           "title": {
            "standoff": 15
           },
           "zerolinecolor": "white",
           "zerolinewidth": 2
          },
          "yaxis": {
           "automargin": true,
           "gridcolor": "white",
           "linecolor": "white",
           "ticks": "",
           "title": {
            "standoff": 15
           },
           "zerolinecolor": "white",
           "zerolinewidth": 2
          }
         }
        },
        "title": {
         "text": "Critics Score vs. Audience Score"
        },
        "xaxis": {
         "anchor": "y",
         "domain": [
          0,
          1
         ],
         "title": {
          "text": "Critics Score (%)"
         }
        },
        "yaxis": {
         "anchor": "x",
         "domain": [
          0,
          1
         ],
         "title": {
          "text": "Audience Score (%)"
         }
        }
       }
      }
     },
     "metadata": {},
     "output_type": "display_data"
    }
   ],
   "source": [
    "df['Score Category'] = np.where(\n",
    "    (df['Critics Score'] + df['Audience Score']) / 2 < 50, 'Low',\n",
    "    np.where((df['Critics Score'] + df['Audience Score']) / 2 > 75, 'High', 'Middle')\n",
    ")\n",
    "fig_scatter = px.scatter(df, x='Critics Score', y='Audience Score',\n",
    "                         title='Critics Score vs. Audience Score',\n",
    "                         labels={'Critics Score': 'Critics Score (%)', 'Audience Score': 'Audience Score (%)'},\n",
    "                         hover_data=['Movie Name'],\n",
    "                         color='Score Category',  # Color by the defined score category\n",
    "                         color_discrete_map={\n",
    "                            'Low': 'red',\n",
    "                            'Middle': 'yellow',\n",
    "                            'High': 'green'\n",
    "                        })\n",
    "fig_scatter.show()"
   ]
  },
  {
   "cell_type": "markdown",
   "metadata": {},
   "source": [
    "#### 3. Top and Bottom Movies by Scores"
   ]
  },
  {
   "cell_type": "code",
   "execution_count": 25,
   "metadata": {},
   "outputs": [
    {
     "data": {
      "application/vnd.plotly.v1+json": {
       "config": {
        "plotlyServerURL": "https://plot.ly"
       },
       "data": [
        {
         "marker": {
          "color": "green"
         },
         "name": "Top 10 by Critics Score",
         "type": "bar",
         "x": [
          "Ghostlight",
          "His House",
          "LaRoy, Texas",
          "Seven Samurai",
          "Leave No Trace",
          "How to Rob a Bank",
          "Thelma",
          "Parasite",
          "Paddington 2",
          "Godzilla Minus One"
         ],
         "y": [
          100,
          100,
          100,
          100,
          100,
          100,
          99,
          99,
          99,
          98
         ]
        },
        {
         "marker": {
          "color": "red"
         },
         "name": "Bottom 10 by Critics Score",
         "type": "bar",
         "x": [
          "Joe Rogan: Burn the Boats",
          "The Emoji Movie",
          "Borderlands",
          "Grown Ups",
          "Madame Web",
          "Aliens vs. Predator: Requiem",
          "Crescent City",
          "Tarot",
          "After",
          "Consumed"
         ],
         "y": [
          0,
          6,
          10,
          10,
          11,
          12,
          17,
          18,
          18,
          18
         ]
        }
       ],
       "layout": {
        "barmode": "group",
        "template": {
         "data": {
          "bar": [
           {
            "error_x": {
             "color": "#2a3f5f"
            },
            "error_y": {
             "color": "#2a3f5f"
            },
            "marker": {
             "line": {
              "color": "#E5ECF6",
              "width": 0.5
             },
             "pattern": {
              "fillmode": "overlay",
              "size": 10,
              "solidity": 0.2
             }
            },
            "type": "bar"
           }
          ],
          "barpolar": [
           {
            "marker": {
             "line": {
              "color": "#E5ECF6",
              "width": 0.5
             },
             "pattern": {
              "fillmode": "overlay",
              "size": 10,
              "solidity": 0.2
             }
            },
            "type": "barpolar"
           }
          ],
          "carpet": [
           {
            "aaxis": {
             "endlinecolor": "#2a3f5f",
             "gridcolor": "white",
             "linecolor": "white",
             "minorgridcolor": "white",
             "startlinecolor": "#2a3f5f"
            },
            "baxis": {
             "endlinecolor": "#2a3f5f",
             "gridcolor": "white",
             "linecolor": "white",
             "minorgridcolor": "white",
             "startlinecolor": "#2a3f5f"
            },
            "type": "carpet"
           }
          ],
          "choropleth": [
           {
            "colorbar": {
             "outlinewidth": 0,
             "ticks": ""
            },
            "type": "choropleth"
           }
          ],
          "contour": [
           {
            "colorbar": {
             "outlinewidth": 0,
             "ticks": ""
            },
            "colorscale": [
             [
              0,
              "#0d0887"
             ],
             [
              0.1111111111111111,
              "#46039f"
             ],
             [
              0.2222222222222222,
              "#7201a8"
             ],
             [
              0.3333333333333333,
              "#9c179e"
             ],
             [
              0.4444444444444444,
              "#bd3786"
             ],
             [
              0.5555555555555556,
              "#d8576b"
             ],
             [
              0.6666666666666666,
              "#ed7953"
             ],
             [
              0.7777777777777778,
              "#fb9f3a"
             ],
             [
              0.8888888888888888,
              "#fdca26"
             ],
             [
              1,
              "#f0f921"
             ]
            ],
            "type": "contour"
           }
          ],
          "contourcarpet": [
           {
            "colorbar": {
             "outlinewidth": 0,
             "ticks": ""
            },
            "type": "contourcarpet"
           }
          ],
          "heatmap": [
           {
            "colorbar": {
             "outlinewidth": 0,
             "ticks": ""
            },
            "colorscale": [
             [
              0,
              "#0d0887"
             ],
             [
              0.1111111111111111,
              "#46039f"
             ],
             [
              0.2222222222222222,
              "#7201a8"
             ],
             [
              0.3333333333333333,
              "#9c179e"
             ],
             [
              0.4444444444444444,
              "#bd3786"
             ],
             [
              0.5555555555555556,
              "#d8576b"
             ],
             [
              0.6666666666666666,
              "#ed7953"
             ],
             [
              0.7777777777777778,
              "#fb9f3a"
             ],
             [
              0.8888888888888888,
              "#fdca26"
             ],
             [
              1,
              "#f0f921"
             ]
            ],
            "type": "heatmap"
           }
          ],
          "heatmapgl": [
           {
            "colorbar": {
             "outlinewidth": 0,
             "ticks": ""
            },
            "colorscale": [
             [
              0,
              "#0d0887"
             ],
             [
              0.1111111111111111,
              "#46039f"
             ],
             [
              0.2222222222222222,
              "#7201a8"
             ],
             [
              0.3333333333333333,
              "#9c179e"
             ],
             [
              0.4444444444444444,
              "#bd3786"
             ],
             [
              0.5555555555555556,
              "#d8576b"
             ],
             [
              0.6666666666666666,
              "#ed7953"
             ],
             [
              0.7777777777777778,
              "#fb9f3a"
             ],
             [
              0.8888888888888888,
              "#fdca26"
             ],
             [
              1,
              "#f0f921"
             ]
            ],
            "type": "heatmapgl"
           }
          ],
          "histogram": [
           {
            "marker": {
             "pattern": {
              "fillmode": "overlay",
              "size": 10,
              "solidity": 0.2
             }
            },
            "type": "histogram"
           }
          ],
          "histogram2d": [
           {
            "colorbar": {
             "outlinewidth": 0,
             "ticks": ""
            },
            "colorscale": [
             [
              0,
              "#0d0887"
             ],
             [
              0.1111111111111111,
              "#46039f"
             ],
             [
              0.2222222222222222,
              "#7201a8"
             ],
             [
              0.3333333333333333,
              "#9c179e"
             ],
             [
              0.4444444444444444,
              "#bd3786"
             ],
             [
              0.5555555555555556,
              "#d8576b"
             ],
             [
              0.6666666666666666,
              "#ed7953"
             ],
             [
              0.7777777777777778,
              "#fb9f3a"
             ],
             [
              0.8888888888888888,
              "#fdca26"
             ],
             [
              1,
              "#f0f921"
             ]
            ],
            "type": "histogram2d"
           }
          ],
          "histogram2dcontour": [
           {
            "colorbar": {
             "outlinewidth": 0,
             "ticks": ""
            },
            "colorscale": [
             [
              0,
              "#0d0887"
             ],
             [
              0.1111111111111111,
              "#46039f"
             ],
             [
              0.2222222222222222,
              "#7201a8"
             ],
             [
              0.3333333333333333,
              "#9c179e"
             ],
             [
              0.4444444444444444,
              "#bd3786"
             ],
             [
              0.5555555555555556,
              "#d8576b"
             ],
             [
              0.6666666666666666,
              "#ed7953"
             ],
             [
              0.7777777777777778,
              "#fb9f3a"
             ],
             [
              0.8888888888888888,
              "#fdca26"
             ],
             [
              1,
              "#f0f921"
             ]
            ],
            "type": "histogram2dcontour"
           }
          ],
          "mesh3d": [
           {
            "colorbar": {
             "outlinewidth": 0,
             "ticks": ""
            },
            "type": "mesh3d"
           }
          ],
          "parcoords": [
           {
            "line": {
             "colorbar": {
              "outlinewidth": 0,
              "ticks": ""
             }
            },
            "type": "parcoords"
           }
          ],
          "pie": [
           {
            "automargin": true,
            "type": "pie"
           }
          ],
          "scatter": [
           {
            "fillpattern": {
             "fillmode": "overlay",
             "size": 10,
             "solidity": 0.2
            },
            "type": "scatter"
           }
          ],
          "scatter3d": [
           {
            "line": {
             "colorbar": {
              "outlinewidth": 0,
              "ticks": ""
             }
            },
            "marker": {
             "colorbar": {
              "outlinewidth": 0,
              "ticks": ""
             }
            },
            "type": "scatter3d"
           }
          ],
          "scattercarpet": [
           {
            "marker": {
             "colorbar": {
              "outlinewidth": 0,
              "ticks": ""
             }
            },
            "type": "scattercarpet"
           }
          ],
          "scattergeo": [
           {
            "marker": {
             "colorbar": {
              "outlinewidth": 0,
              "ticks": ""
             }
            },
            "type": "scattergeo"
           }
          ],
          "scattergl": [
           {
            "marker": {
             "colorbar": {
              "outlinewidth": 0,
              "ticks": ""
             }
            },
            "type": "scattergl"
           }
          ],
          "scattermapbox": [
           {
            "marker": {
             "colorbar": {
              "outlinewidth": 0,
              "ticks": ""
             }
            },
            "type": "scattermapbox"
           }
          ],
          "scatterpolar": [
           {
            "marker": {
             "colorbar": {
              "outlinewidth": 0,
              "ticks": ""
             }
            },
            "type": "scatterpolar"
           }
          ],
          "scatterpolargl": [
           {
            "marker": {
             "colorbar": {
              "outlinewidth": 0,
              "ticks": ""
             }
            },
            "type": "scatterpolargl"
           }
          ],
          "scatterternary": [
           {
            "marker": {
             "colorbar": {
              "outlinewidth": 0,
              "ticks": ""
             }
            },
            "type": "scatterternary"
           }
          ],
          "surface": [
           {
            "colorbar": {
             "outlinewidth": 0,
             "ticks": ""
            },
            "colorscale": [
             [
              0,
              "#0d0887"
             ],
             [
              0.1111111111111111,
              "#46039f"
             ],
             [
              0.2222222222222222,
              "#7201a8"
             ],
             [
              0.3333333333333333,
              "#9c179e"
             ],
             [
              0.4444444444444444,
              "#bd3786"
             ],
             [
              0.5555555555555556,
              "#d8576b"
             ],
             [
              0.6666666666666666,
              "#ed7953"
             ],
             [
              0.7777777777777778,
              "#fb9f3a"
             ],
             [
              0.8888888888888888,
              "#fdca26"
             ],
             [
              1,
              "#f0f921"
             ]
            ],
            "type": "surface"
           }
          ],
          "table": [
           {
            "cells": {
             "fill": {
              "color": "#EBF0F8"
             },
             "line": {
              "color": "white"
             }
            },
            "header": {
             "fill": {
              "color": "#C8D4E3"
             },
             "line": {
              "color": "white"
             }
            },
            "type": "table"
           }
          ]
         },
         "layout": {
          "annotationdefaults": {
           "arrowcolor": "#2a3f5f",
           "arrowhead": 0,
           "arrowwidth": 1
          },
          "autotypenumbers": "strict",
          "coloraxis": {
           "colorbar": {
            "outlinewidth": 0,
            "ticks": ""
           }
          },
          "colorscale": {
           "diverging": [
            [
             0,
             "#8e0152"
            ],
            [
             0.1,
             "#c51b7d"
            ],
            [
             0.2,
             "#de77ae"
            ],
            [
             0.3,
             "#f1b6da"
            ],
            [
             0.4,
             "#fde0ef"
            ],
            [
             0.5,
             "#f7f7f7"
            ],
            [
             0.6,
             "#e6f5d0"
            ],
            [
             0.7,
             "#b8e186"
            ],
            [
             0.8,
             "#7fbc41"
            ],
            [
             0.9,
             "#4d9221"
            ],
            [
             1,
             "#276419"
            ]
           ],
           "sequential": [
            [
             0,
             "#0d0887"
            ],
            [
             0.1111111111111111,
             "#46039f"
            ],
            [
             0.2222222222222222,
             "#7201a8"
            ],
            [
             0.3333333333333333,
             "#9c179e"
            ],
            [
             0.4444444444444444,
             "#bd3786"
            ],
            [
             0.5555555555555556,
             "#d8576b"
            ],
            [
             0.6666666666666666,
             "#ed7953"
            ],
            [
             0.7777777777777778,
             "#fb9f3a"
            ],
            [
             0.8888888888888888,
             "#fdca26"
            ],
            [
             1,
             "#f0f921"
            ]
           ],
           "sequentialminus": [
            [
             0,
             "#0d0887"
            ],
            [
             0.1111111111111111,
             "#46039f"
            ],
            [
             0.2222222222222222,
             "#7201a8"
            ],
            [
             0.3333333333333333,
             "#9c179e"
            ],
            [
             0.4444444444444444,
             "#bd3786"
            ],
            [
             0.5555555555555556,
             "#d8576b"
            ],
            [
             0.6666666666666666,
             "#ed7953"
            ],
            [
             0.7777777777777778,
             "#fb9f3a"
            ],
            [
             0.8888888888888888,
             "#fdca26"
            ],
            [
             1,
             "#f0f921"
            ]
           ]
          },
          "colorway": [
           "#636efa",
           "#EF553B",
           "#00cc96",
           "#ab63fa",
           "#FFA15A",
           "#19d3f3",
           "#FF6692",
           "#B6E880",
           "#FF97FF",
           "#FECB52"
          ],
          "font": {
           "color": "#2a3f5f"
          },
          "geo": {
           "bgcolor": "white",
           "lakecolor": "white",
           "landcolor": "#E5ECF6",
           "showlakes": true,
           "showland": true,
           "subunitcolor": "white"
          },
          "hoverlabel": {
           "align": "left"
          },
          "hovermode": "closest",
          "mapbox": {
           "style": "light"
          },
          "paper_bgcolor": "white",
          "plot_bgcolor": "#E5ECF6",
          "polar": {
           "angularaxis": {
            "gridcolor": "white",
            "linecolor": "white",
            "ticks": ""
           },
           "bgcolor": "#E5ECF6",
           "radialaxis": {
            "gridcolor": "white",
            "linecolor": "white",
            "ticks": ""
           }
          },
          "scene": {
           "xaxis": {
            "backgroundcolor": "#E5ECF6",
            "gridcolor": "white",
            "gridwidth": 2,
            "linecolor": "white",
            "showbackground": true,
            "ticks": "",
            "zerolinecolor": "white"
           },
           "yaxis": {
            "backgroundcolor": "#E5ECF6",
            "gridcolor": "white",
            "gridwidth": 2,
            "linecolor": "white",
            "showbackground": true,
            "ticks": "",
            "zerolinecolor": "white"
           },
           "zaxis": {
            "backgroundcolor": "#E5ECF6",
            "gridcolor": "white",
            "gridwidth": 2,
            "linecolor": "white",
            "showbackground": true,
            "ticks": "",
            "zerolinecolor": "white"
           }
          },
          "shapedefaults": {
           "line": {
            "color": "#2a3f5f"
           }
          },
          "ternary": {
           "aaxis": {
            "gridcolor": "white",
            "linecolor": "white",
            "ticks": ""
           },
           "baxis": {
            "gridcolor": "white",
            "linecolor": "white",
            "ticks": ""
           },
           "bgcolor": "#E5ECF6",
           "caxis": {
            "gridcolor": "white",
            "linecolor": "white",
            "ticks": ""
           }
          },
          "title": {
           "x": 0.05
          },
          "xaxis": {
           "automargin": true,
           "gridcolor": "white",
           "linecolor": "white",
           "ticks": "",
           "title": {
            "standoff": 15
           },
           "zerolinecolor": "white",
           "zerolinewidth": 2
          },
          "yaxis": {
           "automargin": true,
           "gridcolor": "white",
           "linecolor": "white",
           "ticks": "",
           "title": {
            "standoff": 15
           },
           "zerolinecolor": "white",
           "zerolinewidth": 2
          }
         }
        },
        "title": {
         "text": "Top and Bottom Movies by Critics Score"
        },
        "xaxis": {
         "title": {
          "text": "Movie Name"
         }
        },
        "yaxis": {
         "title": {
          "text": "Score (%)"
         }
        }
       }
      }
     },
     "metadata": {},
     "output_type": "display_data"
    },
    {
     "data": {
      "application/vnd.plotly.v1+json": {
       "config": {
        "plotlyServerURL": "https://plot.ly"
       },
       "data": [
        {
         "marker": {
          "color": "blue"
         },
         "name": "Top 10 by Audience Score",
         "type": "bar",
         "x": [
          "The Duel",
          "Top Gun: Maverick",
          "Ordinary Angels",
          "Spider-Man: No Way Home",
          "Godzilla Minus One",
          "The Godfather",
          "Shang-Chi and the Legend of the Ten Rings",
          "Guy Ritchie's The Covenant",
          "Cabrini",
          "Bad Boys: Ride or Die"
         ],
         "y": [
          100,
          99,
          99,
          98,
          98,
          98,
          98,
          98,
          98,
          97
         ]
        },
        {
         "marker": {
          "color": "orange"
         },
         "name": "Bottom 10 by Audience Score",
         "type": "bar",
         "x": [
          "Trigger Warning",
          "Saving Bikini Bottom: The Sandy Cheeks Movie",
          "The Union",
          "Bokeh",
          "Consumed",
          "Crescent City",
          "A Family Affair",
          "Aliens vs. Predator: Requiem",
          "Under Paris",
          "The Predator"
         ],
         "y": [
          15,
          22,
          23,
          24,
          25,
          29,
          30,
          30,
          31,
          32
         ]
        }
       ],
       "layout": {
        "barmode": "group",
        "template": {
         "data": {
          "bar": [
           {
            "error_x": {
             "color": "#2a3f5f"
            },
            "error_y": {
             "color": "#2a3f5f"
            },
            "marker": {
             "line": {
              "color": "#E5ECF6",
              "width": 0.5
             },
             "pattern": {
              "fillmode": "overlay",
              "size": 10,
              "solidity": 0.2
             }
            },
            "type": "bar"
           }
          ],
          "barpolar": [
           {
            "marker": {
             "line": {
              "color": "#E5ECF6",
              "width": 0.5
             },
             "pattern": {
              "fillmode": "overlay",
              "size": 10,
              "solidity": 0.2
             }
            },
            "type": "barpolar"
           }
          ],
          "carpet": [
           {
            "aaxis": {
             "endlinecolor": "#2a3f5f",
             "gridcolor": "white",
             "linecolor": "white",
             "minorgridcolor": "white",
             "startlinecolor": "#2a3f5f"
            },
            "baxis": {
             "endlinecolor": "#2a3f5f",
             "gridcolor": "white",
             "linecolor": "white",
             "minorgridcolor": "white",
             "startlinecolor": "#2a3f5f"
            },
            "type": "carpet"
           }
          ],
          "choropleth": [
           {
            "colorbar": {
             "outlinewidth": 0,
             "ticks": ""
            },
            "type": "choropleth"
           }
          ],
          "contour": [
           {
            "colorbar": {
             "outlinewidth": 0,
             "ticks": ""
            },
            "colorscale": [
             [
              0,
              "#0d0887"
             ],
             [
              0.1111111111111111,
              "#46039f"
             ],
             [
              0.2222222222222222,
              "#7201a8"
             ],
             [
              0.3333333333333333,
              "#9c179e"
             ],
             [
              0.4444444444444444,
              "#bd3786"
             ],
             [
              0.5555555555555556,
              "#d8576b"
             ],
             [
              0.6666666666666666,
              "#ed7953"
             ],
             [
              0.7777777777777778,
              "#fb9f3a"
             ],
             [
              0.8888888888888888,
              "#fdca26"
             ],
             [
              1,
              "#f0f921"
             ]
            ],
            "type": "contour"
           }
          ],
          "contourcarpet": [
           {
            "colorbar": {
             "outlinewidth": 0,
             "ticks": ""
            },
            "type": "contourcarpet"
           }
          ],
          "heatmap": [
           {
            "colorbar": {
             "outlinewidth": 0,
             "ticks": ""
            },
            "colorscale": [
             [
              0,
              "#0d0887"
             ],
             [
              0.1111111111111111,
              "#46039f"
             ],
             [
              0.2222222222222222,
              "#7201a8"
             ],
             [
              0.3333333333333333,
              "#9c179e"
             ],
             [
              0.4444444444444444,
              "#bd3786"
             ],
             [
              0.5555555555555556,
              "#d8576b"
             ],
             [
              0.6666666666666666,
              "#ed7953"
             ],
             [
              0.7777777777777778,
              "#fb9f3a"
             ],
             [
              0.8888888888888888,
              "#fdca26"
             ],
             [
              1,
              "#f0f921"
             ]
            ],
            "type": "heatmap"
           }
          ],
          "heatmapgl": [
           {
            "colorbar": {
             "outlinewidth": 0,
             "ticks": ""
            },
            "colorscale": [
             [
              0,
              "#0d0887"
             ],
             [
              0.1111111111111111,
              "#46039f"
             ],
             [
              0.2222222222222222,
              "#7201a8"
             ],
             [
              0.3333333333333333,
              "#9c179e"
             ],
             [
              0.4444444444444444,
              "#bd3786"
             ],
             [
              0.5555555555555556,
              "#d8576b"
             ],
             [
              0.6666666666666666,
              "#ed7953"
             ],
             [
              0.7777777777777778,
              "#fb9f3a"
             ],
             [
              0.8888888888888888,
              "#fdca26"
             ],
             [
              1,
              "#f0f921"
             ]
            ],
            "type": "heatmapgl"
           }
          ],
          "histogram": [
           {
            "marker": {
             "pattern": {
              "fillmode": "overlay",
              "size": 10,
              "solidity": 0.2
             }
            },
            "type": "histogram"
           }
          ],
          "histogram2d": [
           {
            "colorbar": {
             "outlinewidth": 0,
             "ticks": ""
            },
            "colorscale": [
             [
              0,
              "#0d0887"
             ],
             [
              0.1111111111111111,
              "#46039f"
             ],
             [
              0.2222222222222222,
              "#7201a8"
             ],
             [
              0.3333333333333333,
              "#9c179e"
             ],
             [
              0.4444444444444444,
              "#bd3786"
             ],
             [
              0.5555555555555556,
              "#d8576b"
             ],
             [
              0.6666666666666666,
              "#ed7953"
             ],
             [
              0.7777777777777778,
              "#fb9f3a"
             ],
             [
              0.8888888888888888,
              "#fdca26"
             ],
             [
              1,
              "#f0f921"
             ]
            ],
            "type": "histogram2d"
           }
          ],
          "histogram2dcontour": [
           {
            "colorbar": {
             "outlinewidth": 0,
             "ticks": ""
            },
            "colorscale": [
             [
              0,
              "#0d0887"
             ],
             [
              0.1111111111111111,
              "#46039f"
             ],
             [
              0.2222222222222222,
              "#7201a8"
             ],
             [
              0.3333333333333333,
              "#9c179e"
             ],
             [
              0.4444444444444444,
              "#bd3786"
             ],
             [
              0.5555555555555556,
              "#d8576b"
             ],
             [
              0.6666666666666666,
              "#ed7953"
             ],
             [
              0.7777777777777778,
              "#fb9f3a"
             ],
             [
              0.8888888888888888,
              "#fdca26"
             ],
             [
              1,
              "#f0f921"
             ]
            ],
            "type": "histogram2dcontour"
           }
          ],
          "mesh3d": [
           {
            "colorbar": {
             "outlinewidth": 0,
             "ticks": ""
            },
            "type": "mesh3d"
           }
          ],
          "parcoords": [
           {
            "line": {
             "colorbar": {
              "outlinewidth": 0,
              "ticks": ""
             }
            },
            "type": "parcoords"
           }
          ],
          "pie": [
           {
            "automargin": true,
            "type": "pie"
           }
          ],
          "scatter": [
           {
            "fillpattern": {
             "fillmode": "overlay",
             "size": 10,
             "solidity": 0.2
            },
            "type": "scatter"
           }
          ],
          "scatter3d": [
           {
            "line": {
             "colorbar": {
              "outlinewidth": 0,
              "ticks": ""
             }
            },
            "marker": {
             "colorbar": {
              "outlinewidth": 0,
              "ticks": ""
             }
            },
            "type": "scatter3d"
           }
          ],
          "scattercarpet": [
           {
            "marker": {
             "colorbar": {
              "outlinewidth": 0,
              "ticks": ""
             }
            },
            "type": "scattercarpet"
           }
          ],
          "scattergeo": [
           {
            "marker": {
             "colorbar": {
              "outlinewidth": 0,
              "ticks": ""
             }
            },
            "type": "scattergeo"
           }
          ],
          "scattergl": [
           {
            "marker": {
             "colorbar": {
              "outlinewidth": 0,
              "ticks": ""
             }
            },
            "type": "scattergl"
           }
          ],
          "scattermapbox": [
           {
            "marker": {
             "colorbar": {
              "outlinewidth": 0,
              "ticks": ""
             }
            },
            "type": "scattermapbox"
           }
          ],
          "scatterpolar": [
           {
            "marker": {
             "colorbar": {
              "outlinewidth": 0,
              "ticks": ""
             }
            },
            "type": "scatterpolar"
           }
          ],
          "scatterpolargl": [
           {
            "marker": {
             "colorbar": {
              "outlinewidth": 0,
              "ticks": ""
             }
            },
            "type": "scatterpolargl"
           }
          ],
          "scatterternary": [
           {
            "marker": {
             "colorbar": {
              "outlinewidth": 0,
              "ticks": ""
             }
            },
            "type": "scatterternary"
           }
          ],
          "surface": [
           {
            "colorbar": {
             "outlinewidth": 0,
             "ticks": ""
            },
            "colorscale": [
             [
              0,
              "#0d0887"
             ],
             [
              0.1111111111111111,
              "#46039f"
             ],
             [
              0.2222222222222222,
              "#7201a8"
             ],
             [
              0.3333333333333333,
              "#9c179e"
             ],
             [
              0.4444444444444444,
              "#bd3786"
             ],
             [
              0.5555555555555556,
              "#d8576b"
             ],
             [
              0.6666666666666666,
              "#ed7953"
             ],
             [
              0.7777777777777778,
              "#fb9f3a"
             ],
             [
              0.8888888888888888,
              "#fdca26"
             ],
             [
              1,
              "#f0f921"
             ]
            ],
            "type": "surface"
           }
          ],
          "table": [
           {
            "cells": {
             "fill": {
              "color": "#EBF0F8"
             },
             "line": {
              "color": "white"
             }
            },
            "header": {
             "fill": {
              "color": "#C8D4E3"
             },
             "line": {
              "color": "white"
             }
            },
            "type": "table"
           }
          ]
         },
         "layout": {
          "annotationdefaults": {
           "arrowcolor": "#2a3f5f",
           "arrowhead": 0,
           "arrowwidth": 1
          },
          "autotypenumbers": "strict",
          "coloraxis": {
           "colorbar": {
            "outlinewidth": 0,
            "ticks": ""
           }
          },
          "colorscale": {
           "diverging": [
            [
             0,
             "#8e0152"
            ],
            [
             0.1,
             "#c51b7d"
            ],
            [
             0.2,
             "#de77ae"
            ],
            [
             0.3,
             "#f1b6da"
            ],
            [
             0.4,
             "#fde0ef"
            ],
            [
             0.5,
             "#f7f7f7"
            ],
            [
             0.6,
             "#e6f5d0"
            ],
            [
             0.7,
             "#b8e186"
            ],
            [
             0.8,
             "#7fbc41"
            ],
            [
             0.9,
             "#4d9221"
            ],
            [
             1,
             "#276419"
            ]
           ],
           "sequential": [
            [
             0,
             "#0d0887"
            ],
            [
             0.1111111111111111,
             "#46039f"
            ],
            [
             0.2222222222222222,
             "#7201a8"
            ],
            [
             0.3333333333333333,
             "#9c179e"
            ],
            [
             0.4444444444444444,
             "#bd3786"
            ],
            [
             0.5555555555555556,
             "#d8576b"
            ],
            [
             0.6666666666666666,
             "#ed7953"
            ],
            [
             0.7777777777777778,
             "#fb9f3a"
            ],
            [
             0.8888888888888888,
             "#fdca26"
            ],
            [
             1,
             "#f0f921"
            ]
           ],
           "sequentialminus": [
            [
             0,
             "#0d0887"
            ],
            [
             0.1111111111111111,
             "#46039f"
            ],
            [
             0.2222222222222222,
             "#7201a8"
            ],
            [
             0.3333333333333333,
             "#9c179e"
            ],
            [
             0.4444444444444444,
             "#bd3786"
            ],
            [
             0.5555555555555556,
             "#d8576b"
            ],
            [
             0.6666666666666666,
             "#ed7953"
            ],
            [
             0.7777777777777778,
             "#fb9f3a"
            ],
            [
             0.8888888888888888,
             "#fdca26"
            ],
            [
             1,
             "#f0f921"
            ]
           ]
          },
          "colorway": [
           "#636efa",
           "#EF553B",
           "#00cc96",
           "#ab63fa",
           "#FFA15A",
           "#19d3f3",
           "#FF6692",
           "#B6E880",
           "#FF97FF",
           "#FECB52"
          ],
          "font": {
           "color": "#2a3f5f"
          },
          "geo": {
           "bgcolor": "white",
           "lakecolor": "white",
           "landcolor": "#E5ECF6",
           "showlakes": true,
           "showland": true,
           "subunitcolor": "white"
          },
          "hoverlabel": {
           "align": "left"
          },
          "hovermode": "closest",
          "mapbox": {
           "style": "light"
          },
          "paper_bgcolor": "white",
          "plot_bgcolor": "#E5ECF6",
          "polar": {
           "angularaxis": {
            "gridcolor": "white",
            "linecolor": "white",
            "ticks": ""
           },
           "bgcolor": "#E5ECF6",
           "radialaxis": {
            "gridcolor": "white",
            "linecolor": "white",
            "ticks": ""
           }
          },
          "scene": {
           "xaxis": {
            "backgroundcolor": "#E5ECF6",
            "gridcolor": "white",
            "gridwidth": 2,
            "linecolor": "white",
            "showbackground": true,
            "ticks": "",
            "zerolinecolor": "white"
           },
           "yaxis": {
            "backgroundcolor": "#E5ECF6",
            "gridcolor": "white",
            "gridwidth": 2,
            "linecolor": "white",
            "showbackground": true,
            "ticks": "",
            "zerolinecolor": "white"
           },
           "zaxis": {
            "backgroundcolor": "#E5ECF6",
            "gridcolor": "white",
            "gridwidth": 2,
            "linecolor": "white",
            "showbackground": true,
            "ticks": "",
            "zerolinecolor": "white"
           }
          },
          "shapedefaults": {
           "line": {
            "color": "#2a3f5f"
           }
          },
          "ternary": {
           "aaxis": {
            "gridcolor": "white",
            "linecolor": "white",
            "ticks": ""
           },
           "baxis": {
            "gridcolor": "white",
            "linecolor": "white",
            "ticks": ""
           },
           "bgcolor": "#E5ECF6",
           "caxis": {
            "gridcolor": "white",
            "linecolor": "white",
            "ticks": ""
           }
          },
          "title": {
           "x": 0.05
          },
          "xaxis": {
           "automargin": true,
           "gridcolor": "white",
           "linecolor": "white",
           "ticks": "",
           "title": {
            "standoff": 15
           },
           "zerolinecolor": "white",
           "zerolinewidth": 2
          },
          "yaxis": {
           "automargin": true,
           "gridcolor": "white",
           "linecolor": "white",
           "ticks": "",
           "title": {
            "standoff": 15
           },
           "zerolinecolor": "white",
           "zerolinewidth": 2
          }
         }
        },
        "title": {
         "text": "Top and Bottom Movies by Audience Score"
        },
        "xaxis": {
         "title": {
          "text": "Movie Name"
         }
        },
        "yaxis": {
         "title": {
          "text": "Score (%)"
         }
        }
       }
      }
     },
     "metadata": {},
     "output_type": "display_data"
    }
   ],
   "source": [
    "top_critics = df.nlargest(10, 'Critics Score')\n",
    "bottom_critics = df.nsmallest(10, 'Critics Score')\n",
    "top_audience = df.nlargest(10, 'Audience Score')\n",
    "bottom_audience = df.nsmallest(10, 'Audience Score')\n",
    "\n",
    "fig_bar = go.Figure()\n",
    "\n",
    "fig_bar.add_trace(go.Bar(\n",
    "    x=top_critics['Movie Name'],\n",
    "    y=top_critics['Critics Score'],\n",
    "    name='Top 10 by Critics Score',\n",
    "    marker_color='green'\n",
    "))\n",
    "\n",
    "fig_bar.add_trace(go.Bar(\n",
    "    x=bottom_critics['Movie Name'],\n",
    "    y=bottom_critics['Critics Score'],\n",
    "    name='Bottom 10 by Critics Score',\n",
    "    marker_color='red'\n",
    "))\n",
    "\n",
    "fig_bar.update_layout(barmode='group', title='Top and Bottom Movies by Critics Score', xaxis_title='Movie Name', yaxis_title='Score (%)')\n",
    "fig_bar.show()\n",
    "\n",
    "fig_bar2 = go.Figure()\n",
    "\n",
    "fig_bar2.add_trace(go.Bar(\n",
    "    x=top_audience['Movie Name'],\n",
    "    y=top_audience['Audience Score'],\n",
    "    name='Top 10 by Audience Score',\n",
    "    marker_color='blue'\n",
    "))\n",
    "\n",
    "fig_bar2.add_trace(go.Bar(\n",
    "    x=bottom_audience['Movie Name'],\n",
    "    y=bottom_audience['Audience Score'],\n",
    "    name='Bottom 10 by Audience Score',\n",
    "    marker_color='orange'\n",
    "))\n",
    "\n",
    "fig_bar2.update_layout(barmode='group', title='Top and Bottom Movies by Audience Score', xaxis_title='Movie Name', yaxis_title='Score (%)')\n",
    "fig_bar2.show()"
   ]
  },
  {
   "cell_type": "markdown",
   "metadata": {},
   "source": [
    "#### 4. Box Plot of Scores"
   ]
  },
  {
   "cell_type": "code",
   "execution_count": 27,
   "metadata": {},
   "outputs": [
    {
     "data": {
      "application/vnd.plotly.v1+json": {
       "config": {
        "plotlyServerURL": "https://plot.ly"
       },
       "data": [
        {
         "boxmean": true,
         "marker": {
          "color": "purple"
         },
         "name": "Critics Score",
         "type": "box",
         "y": [
          86,
          96,
          36,
          10,
          100,
          75,
          95,
          55,
          91,
          90,
          49,
          30,
          58,
          86,
          65,
          86,
          99,
          41,
          82,
          65,
          56,
          92,
          93,
          80,
          80,
          89,
          69,
          71,
          81,
          94,
          97,
          92,
          94,
          72,
          91,
          44,
          73,
          71,
          67,
          32,
          90,
          11,
          88,
          80,
          85,
          93,
          52,
          91,
          93,
          50,
          30,
          84,
          65,
          87,
          93,
          89,
          90,
          83,
          73,
          18,
          82,
          94,
          92,
          91,
          20,
          63,
          39,
          85,
          38,
          42,
          97,
          77,
          62,
          94,
          81,
          77,
          73,
          92,
          94,
          82,
          53,
          73,
          35,
          93,
          89,
          98,
          41,
          32,
          93,
          97,
          96,
          77,
          95,
          94,
          92,
          94,
          75,
          100,
          100,
          64,
          91,
          92,
          81,
          85,
          36,
          25,
          26,
          54,
          70,
          29,
          89,
          92,
          78,
          75,
          24,
          44,
          95,
          93,
          59,
          90,
          80,
          56,
          84,
          12,
          42,
          93,
          33,
          6,
          90,
          97,
          82,
          96,
          66,
          98,
          91,
          0,
          22,
          99,
          85,
          98,
          85,
          95,
          96,
          97,
          83,
          50,
          64,
          47,
          83,
          94,
          86,
          96,
          83,
          84,
          45,
          91,
          89,
          94,
          70,
          34,
          90,
          58,
          84,
          18,
          20,
          96,
          45,
          69,
          94,
          93,
          53,
          68,
          88,
          94,
          74,
          19,
          63,
          76,
          91,
          45,
          88,
          64,
          93,
          98,
          97,
          59,
          42,
          29,
          63,
          91,
          53,
          79,
          38,
          67,
          82,
          93,
          67,
          74,
          96,
          95,
          71,
          86,
          96,
          95,
          80,
          94,
          94,
          86,
          85,
          100,
          59,
          46,
          71,
          79,
          83,
          21,
          64,
          84,
          84,
          38,
          97,
          56,
          29,
          88,
          22,
          17,
          84,
          90,
          41,
          51,
          51,
          96,
          76,
          90,
          83,
          100,
          70,
          83,
          88,
          80,
          35,
          91,
          84,
          88,
          50,
          52,
          84,
          96,
          45,
          70,
          90,
          90,
          91,
          10,
          37,
          91,
          96,
          49,
          91,
          57,
          97,
          93,
          80,
          84,
          86,
          67,
          61,
          88,
          88,
          68,
          51,
          75,
          34,
          98,
          71,
          71,
          82,
          80,
          57,
          81,
          90,
          18,
          99,
          92,
          92,
          67,
          100,
          72,
          88,
          88,
          92,
          57
         ]
        },
        {
         "boxmean": true,
         "marker": {
          "color": "blue"
         },
         "name": "Audience Score",
         "type": "box",
         "y": [
          60,
          79,
          23,
          53,
          94,
          91,
          91,
          65,
          95,
          89,
          70,
          50,
          52,
          90,
          91,
          73,
          84,
          56,
          86,
          55,
          88,
          76,
          94,
          75,
          78,
          84,
          93,
          59,
          70,
          94,
          81,
          83,
          81,
          49,
          74,
          46,
          78,
          92,
          94,
          52,
          84,
          57,
          73,
          92,
          61,
          94,
          87,
          74,
          77,
          88,
          63,
          72,
          97,
          68,
          70,
          84,
          86,
          85,
          36,
          59,
          82,
          82,
          93,
          91,
          43,
          36,
          51,
          90,
          69,
          83,
          86,
          56,
          82,
          74,
          70,
          91,
          88,
          95,
          90,
          97,
          45,
          86,
          30,
          98,
          95,
          98,
          68,
          87,
          91,
          92,
          94,
          89,
          81,
          82,
          79,
          76,
          84,
          73,
          64,
          84,
          75,
          92,
          66,
          87,
          80,
          41,
          57,
          91,
          97,
          42,
          97,
          71,
          44,
          84,
          81,
          70,
          65,
          90,
          95,
          60,
          77,
          61,
          86,
          30,
          85,
          84,
          72,
          36,
          94,
          95,
          94,
          81,
          77,
          89,
          68,
          49,
          56,
          90,
          54,
          86,
          92,
          94,
          99,
          98,
          69,
          65,
          89,
          77,
          62,
          53,
          86,
          90,
          66,
          73,
          24,
          98,
          94,
          94,
          87,
          96,
          71,
          59,
          94,
          65,
          15,
          91,
          92,
          89,
          91,
          86,
          76,
          85,
          83,
          93,
          73,
          46,
          76,
          92,
          93,
          67,
          82,
          91,
          78,
          72,
          88,
          72,
          51,
          61,
          83,
          50,
          77,
          91,
          72,
          76,
          91,
          96,
          55,
          85,
          83,
          93,
          93,
          59,
          89,
          96,
          87,
          76,
          84,
          54,
          67,
          97,
          53,
          82,
          79,
          45,
          98,
          44,
          22,
          55,
          76,
          58,
          91,
          60,
          33,
          76,
          64,
          29,
          80,
          40,
          80,
          70,
          82,
          96,
          82,
          91,
          90,
          79,
          97,
          63,
          79,
          96,
          86,
          92,
          75,
          79,
          64,
          91,
          99,
          78,
          90,
          88,
          89,
          98,
          95,
          62,
          92,
          65,
          73,
          86,
          41,
          100,
          92,
          78,
          87,
          80,
          70,
          94,
          31,
          88,
          88,
          96,
          86,
          41,
          32,
          90,
          77,
          86,
          53,
          94,
          97,
          67,
          92,
          25,
          88,
          87,
          87,
          63,
          74,
          74,
          69,
          44,
          80,
          86
         ]
        }
       ],
       "layout": {
        "template": {
         "data": {
          "bar": [
           {
            "error_x": {
             "color": "#2a3f5f"
            },
            "error_y": {
             "color": "#2a3f5f"
            },
            "marker": {
             "line": {
              "color": "#E5ECF6",
              "width": 0.5
             },
             "pattern": {
              "fillmode": "overlay",
              "size": 10,
              "solidity": 0.2
             }
            },
            "type": "bar"
           }
          ],
          "barpolar": [
           {
            "marker": {
             "line": {
              "color": "#E5ECF6",
              "width": 0.5
             },
             "pattern": {
              "fillmode": "overlay",
              "size": 10,
              "solidity": 0.2
             }
            },
            "type": "barpolar"
           }
          ],
          "carpet": [
           {
            "aaxis": {
             "endlinecolor": "#2a3f5f",
             "gridcolor": "white",
             "linecolor": "white",
             "minorgridcolor": "white",
             "startlinecolor": "#2a3f5f"
            },
            "baxis": {
             "endlinecolor": "#2a3f5f",
             "gridcolor": "white",
             "linecolor": "white",
             "minorgridcolor": "white",
             "startlinecolor": "#2a3f5f"
            },
            "type": "carpet"
           }
          ],
          "choropleth": [
           {
            "colorbar": {
             "outlinewidth": 0,
             "ticks": ""
            },
            "type": "choropleth"
           }
          ],
          "contour": [
           {
            "colorbar": {
             "outlinewidth": 0,
             "ticks": ""
            },
            "colorscale": [
             [
              0,
              "#0d0887"
             ],
             [
              0.1111111111111111,
              "#46039f"
             ],
             [
              0.2222222222222222,
              "#7201a8"
             ],
             [
              0.3333333333333333,
              "#9c179e"
             ],
             [
              0.4444444444444444,
              "#bd3786"
             ],
             [
              0.5555555555555556,
              "#d8576b"
             ],
             [
              0.6666666666666666,
              "#ed7953"
             ],
             [
              0.7777777777777778,
              "#fb9f3a"
             ],
             [
              0.8888888888888888,
              "#fdca26"
             ],
             [
              1,
              "#f0f921"
             ]
            ],
            "type": "contour"
           }
          ],
          "contourcarpet": [
           {
            "colorbar": {
             "outlinewidth": 0,
             "ticks": ""
            },
            "type": "contourcarpet"
           }
          ],
          "heatmap": [
           {
            "colorbar": {
             "outlinewidth": 0,
             "ticks": ""
            },
            "colorscale": [
             [
              0,
              "#0d0887"
             ],
             [
              0.1111111111111111,
              "#46039f"
             ],
             [
              0.2222222222222222,
              "#7201a8"
             ],
             [
              0.3333333333333333,
              "#9c179e"
             ],
             [
              0.4444444444444444,
              "#bd3786"
             ],
             [
              0.5555555555555556,
              "#d8576b"
             ],
             [
              0.6666666666666666,
              "#ed7953"
             ],
             [
              0.7777777777777778,
              "#fb9f3a"
             ],
             [
              0.8888888888888888,
              "#fdca26"
             ],
             [
              1,
              "#f0f921"
             ]
            ],
            "type": "heatmap"
           }
          ],
          "heatmapgl": [
           {
            "colorbar": {
             "outlinewidth": 0,
             "ticks": ""
            },
            "colorscale": [
             [
              0,
              "#0d0887"
             ],
             [
              0.1111111111111111,
              "#46039f"
             ],
             [
              0.2222222222222222,
              "#7201a8"
             ],
             [
              0.3333333333333333,
              "#9c179e"
             ],
             [
              0.4444444444444444,
              "#bd3786"
             ],
             [
              0.5555555555555556,
              "#d8576b"
             ],
             [
              0.6666666666666666,
              "#ed7953"
             ],
             [
              0.7777777777777778,
              "#fb9f3a"
             ],
             [
              0.8888888888888888,
              "#fdca26"
             ],
             [
              1,
              "#f0f921"
             ]
            ],
            "type": "heatmapgl"
           }
          ],
          "histogram": [
           {
            "marker": {
             "pattern": {
              "fillmode": "overlay",
              "size": 10,
              "solidity": 0.2
             }
            },
            "type": "histogram"
           }
          ],
          "histogram2d": [
           {
            "colorbar": {
             "outlinewidth": 0,
             "ticks": ""
            },
            "colorscale": [
             [
              0,
              "#0d0887"
             ],
             [
              0.1111111111111111,
              "#46039f"
             ],
             [
              0.2222222222222222,
              "#7201a8"
             ],
             [
              0.3333333333333333,
              "#9c179e"
             ],
             [
              0.4444444444444444,
              "#bd3786"
             ],
             [
              0.5555555555555556,
              "#d8576b"
             ],
             [
              0.6666666666666666,
              "#ed7953"
             ],
             [
              0.7777777777777778,
              "#fb9f3a"
             ],
             [
              0.8888888888888888,
              "#fdca26"
             ],
             [
              1,
              "#f0f921"
             ]
            ],
            "type": "histogram2d"
           }
          ],
          "histogram2dcontour": [
           {
            "colorbar": {
             "outlinewidth": 0,
             "ticks": ""
            },
            "colorscale": [
             [
              0,
              "#0d0887"
             ],
             [
              0.1111111111111111,
              "#46039f"
             ],
             [
              0.2222222222222222,
              "#7201a8"
             ],
             [
              0.3333333333333333,
              "#9c179e"
             ],
             [
              0.4444444444444444,
              "#bd3786"
             ],
             [
              0.5555555555555556,
              "#d8576b"
             ],
             [
              0.6666666666666666,
              "#ed7953"
             ],
             [
              0.7777777777777778,
              "#fb9f3a"
             ],
             [
              0.8888888888888888,
              "#fdca26"
             ],
             [
              1,
              "#f0f921"
             ]
            ],
            "type": "histogram2dcontour"
           }
          ],
          "mesh3d": [
           {
            "colorbar": {
             "outlinewidth": 0,
             "ticks": ""
            },
            "type": "mesh3d"
           }
          ],
          "parcoords": [
           {
            "line": {
             "colorbar": {
              "outlinewidth": 0,
              "ticks": ""
             }
            },
            "type": "parcoords"
           }
          ],
          "pie": [
           {
            "automargin": true,
            "type": "pie"
           }
          ],
          "scatter": [
           {
            "fillpattern": {
             "fillmode": "overlay",
             "size": 10,
             "solidity": 0.2
            },
            "type": "scatter"
           }
          ],
          "scatter3d": [
           {
            "line": {
             "colorbar": {
              "outlinewidth": 0,
              "ticks": ""
             }
            },
            "marker": {
             "colorbar": {
              "outlinewidth": 0,
              "ticks": ""
             }
            },
            "type": "scatter3d"
           }
          ],
          "scattercarpet": [
           {
            "marker": {
             "colorbar": {
              "outlinewidth": 0,
              "ticks": ""
             }
            },
            "type": "scattercarpet"
           }
          ],
          "scattergeo": [
           {
            "marker": {
             "colorbar": {
              "outlinewidth": 0,
              "ticks": ""
             }
            },
            "type": "scattergeo"
           }
          ],
          "scattergl": [
           {
            "marker": {
             "colorbar": {
              "outlinewidth": 0,
              "ticks": ""
             }
            },
            "type": "scattergl"
           }
          ],
          "scattermapbox": [
           {
            "marker": {
             "colorbar": {
              "outlinewidth": 0,
              "ticks": ""
             }
            },
            "type": "scattermapbox"
           }
          ],
          "scatterpolar": [
           {
            "marker": {
             "colorbar": {
              "outlinewidth": 0,
              "ticks": ""
             }
            },
            "type": "scatterpolar"
           }
          ],
          "scatterpolargl": [
           {
            "marker": {
             "colorbar": {
              "outlinewidth": 0,
              "ticks": ""
             }
            },
            "type": "scatterpolargl"
           }
          ],
          "scatterternary": [
           {
            "marker": {
             "colorbar": {
              "outlinewidth": 0,
              "ticks": ""
             }
            },
            "type": "scatterternary"
           }
          ],
          "surface": [
           {
            "colorbar": {
             "outlinewidth": 0,
             "ticks": ""
            },
            "colorscale": [
             [
              0,
              "#0d0887"
             ],
             [
              0.1111111111111111,
              "#46039f"
             ],
             [
              0.2222222222222222,
              "#7201a8"
             ],
             [
              0.3333333333333333,
              "#9c179e"
             ],
             [
              0.4444444444444444,
              "#bd3786"
             ],
             [
              0.5555555555555556,
              "#d8576b"
             ],
             [
              0.6666666666666666,
              "#ed7953"
             ],
             [
              0.7777777777777778,
              "#fb9f3a"
             ],
             [
              0.8888888888888888,
              "#fdca26"
             ],
             [
              1,
              "#f0f921"
             ]
            ],
            "type": "surface"
           }
          ],
          "table": [
           {
            "cells": {
             "fill": {
              "color": "#EBF0F8"
             },
             "line": {
              "color": "white"
             }
            },
            "header": {
             "fill": {
              "color": "#C8D4E3"
             },
             "line": {
              "color": "white"
             }
            },
            "type": "table"
           }
          ]
         },
         "layout": {
          "annotationdefaults": {
           "arrowcolor": "#2a3f5f",
           "arrowhead": 0,
           "arrowwidth": 1
          },
          "autotypenumbers": "strict",
          "coloraxis": {
           "colorbar": {
            "outlinewidth": 0,
            "ticks": ""
           }
          },
          "colorscale": {
           "diverging": [
            [
             0,
             "#8e0152"
            ],
            [
             0.1,
             "#c51b7d"
            ],
            [
             0.2,
             "#de77ae"
            ],
            [
             0.3,
             "#f1b6da"
            ],
            [
             0.4,
             "#fde0ef"
            ],
            [
             0.5,
             "#f7f7f7"
            ],
            [
             0.6,
             "#e6f5d0"
            ],
            [
             0.7,
             "#b8e186"
            ],
            [
             0.8,
             "#7fbc41"
            ],
            [
             0.9,
             "#4d9221"
            ],
            [
             1,
             "#276419"
            ]
           ],
           "sequential": [
            [
             0,
             "#0d0887"
            ],
            [
             0.1111111111111111,
             "#46039f"
            ],
            [
             0.2222222222222222,
             "#7201a8"
            ],
            [
             0.3333333333333333,
             "#9c179e"
            ],
            [
             0.4444444444444444,
             "#bd3786"
            ],
            [
             0.5555555555555556,
             "#d8576b"
            ],
            [
             0.6666666666666666,
             "#ed7953"
            ],
            [
             0.7777777777777778,
             "#fb9f3a"
            ],
            [
             0.8888888888888888,
             "#fdca26"
            ],
            [
             1,
             "#f0f921"
            ]
           ],
           "sequentialminus": [
            [
             0,
             "#0d0887"
            ],
            [
             0.1111111111111111,
             "#46039f"
            ],
            [
             0.2222222222222222,
             "#7201a8"
            ],
            [
             0.3333333333333333,
             "#9c179e"
            ],
            [
             0.4444444444444444,
             "#bd3786"
            ],
            [
             0.5555555555555556,
             "#d8576b"
            ],
            [
             0.6666666666666666,
             "#ed7953"
            ],
            [
             0.7777777777777778,
             "#fb9f3a"
            ],
            [
             0.8888888888888888,
             "#fdca26"
            ],
            [
             1,
             "#f0f921"
            ]
           ]
          },
          "colorway": [
           "#636efa",
           "#EF553B",
           "#00cc96",
           "#ab63fa",
           "#FFA15A",
           "#19d3f3",
           "#FF6692",
           "#B6E880",
           "#FF97FF",
           "#FECB52"
          ],
          "font": {
           "color": "#2a3f5f"
          },
          "geo": {
           "bgcolor": "white",
           "lakecolor": "white",
           "landcolor": "#E5ECF6",
           "showlakes": true,
           "showland": true,
           "subunitcolor": "white"
          },
          "hoverlabel": {
           "align": "left"
          },
          "hovermode": "closest",
          "mapbox": {
           "style": "light"
          },
          "paper_bgcolor": "white",
          "plot_bgcolor": "#E5ECF6",
          "polar": {
           "angularaxis": {
            "gridcolor": "white",
            "linecolor": "white",
            "ticks": ""
           },
           "bgcolor": "#E5ECF6",
           "radialaxis": {
            "gridcolor": "white",
            "linecolor": "white",
            "ticks": ""
           }
          },
          "scene": {
           "xaxis": {
            "backgroundcolor": "#E5ECF6",
            "gridcolor": "white",
            "gridwidth": 2,
            "linecolor": "white",
            "showbackground": true,
            "ticks": "",
            "zerolinecolor": "white"
           },
           "yaxis": {
            "backgroundcolor": "#E5ECF6",
            "gridcolor": "white",
            "gridwidth": 2,
            "linecolor": "white",
            "showbackground": true,
            "ticks": "",
            "zerolinecolor": "white"
           },
           "zaxis": {
            "backgroundcolor": "#E5ECF6",
            "gridcolor": "white",
            "gridwidth": 2,
            "linecolor": "white",
            "showbackground": true,
            "ticks": "",
            "zerolinecolor": "white"
           }
          },
          "shapedefaults": {
           "line": {
            "color": "#2a3f5f"
           }
          },
          "ternary": {
           "aaxis": {
            "gridcolor": "white",
            "linecolor": "white",
            "ticks": ""
           },
           "baxis": {
            "gridcolor": "white",
            "linecolor": "white",
            "ticks": ""
           },
           "bgcolor": "#E5ECF6",
           "caxis": {
            "gridcolor": "white",
            "linecolor": "white",
            "ticks": ""
           }
          },
          "title": {
           "x": 0.05
          },
          "xaxis": {
           "automargin": true,
           "gridcolor": "white",
           "linecolor": "white",
           "ticks": "",
           "title": {
            "standoff": 15
           },
           "zerolinecolor": "white",
           "zerolinewidth": 2
          },
          "yaxis": {
           "automargin": true,
           "gridcolor": "white",
           "linecolor": "white",
           "ticks": "",
           "title": {
            "standoff": 15
           },
           "zerolinecolor": "white",
           "zerolinewidth": 2
          }
         }
        },
        "title": {
         "text": "Box Plot of Critics and Audience Scores"
        },
        "yaxis": {
         "title": {
          "text": "Score (%)"
         }
        }
       }
      }
     },
     "metadata": {},
     "output_type": "display_data"
    }
   ],
   "source": [
    "fig_box = go.Figure()\n",
    "\n",
    "fig_box.add_trace(go.Box(y=df['Critics Score'], name='Critics Score', boxmean=True, marker_color='purple'))\n",
    "fig_box.add_trace(go.Box(y=df['Audience Score'], name='Audience Score', boxmean=True, marker_color='blue'))\n",
    "\n",
    "fig_box.update_layout(title='Box Plot of Critics and Audience Scores', yaxis_title='Score (%)')\n",
    "fig_box.show()"
   ]
  },
  {
   "cell_type": "code",
   "execution_count": 10,
   "metadata": {},
   "outputs": [
    {
     "data": {
      "text/html": [
       "<div>\n",
       "<style scoped>\n",
       "    .dataframe tbody tr th:only-of-type {\n",
       "        vertical-align: middle;\n",
       "    }\n",
       "\n",
       "    .dataframe tbody tr th {\n",
       "        vertical-align: top;\n",
       "    }\n",
       "\n",
       "    .dataframe thead th {\n",
       "        text-align: right;\n",
       "    }\n",
       "</style>\n",
       "<table border=\"1\" class=\"dataframe\">\n",
       "  <thead>\n",
       "    <tr style=\"text-align: right;\">\n",
       "      <th></th>\n",
       "      <th>Movie Name</th>\n",
       "      <th>Critics Score</th>\n",
       "      <th>Audience Score</th>\n",
       "    </tr>\n",
       "  </thead>\n",
       "  <tbody>\n",
       "    <tr>\n",
       "      <th>0</th>\n",
       "      <td>Longlegs</td>\n",
       "      <td>0.553977</td>\n",
       "      <td>-0.884950</td>\n",
       "    </tr>\n",
       "    <tr>\n",
       "      <th>1</th>\n",
       "      <td>Oddity</td>\n",
       "      <td>0.972397</td>\n",
       "      <td>0.161895</td>\n",
       "    </tr>\n",
       "    <tr>\n",
       "      <th>2</th>\n",
       "      <td>The Union</td>\n",
       "      <td>-1.538124</td>\n",
       "      <td>-2.923544</td>\n",
       "    </tr>\n",
       "    <tr>\n",
       "      <th>3</th>\n",
       "      <td>Borderlands</td>\n",
       "      <td>-2.626017</td>\n",
       "      <td>-1.270630</td>\n",
       "    </tr>\n",
       "    <tr>\n",
       "      <th>4</th>\n",
       "      <td>Ghostlight</td>\n",
       "      <td>1.139765</td>\n",
       "      <td>0.988352</td>\n",
       "    </tr>\n",
       "    <tr>\n",
       "      <th>...</th>\n",
       "      <td>...</td>\n",
       "      <td>...</td>\n",
       "      <td>...</td>\n",
       "    </tr>\n",
       "    <tr>\n",
       "      <th>295</th>\n",
       "      <td>Ferrari</td>\n",
       "      <td>-0.031811</td>\n",
       "      <td>-0.113591</td>\n",
       "    </tr>\n",
       "    <tr>\n",
       "      <th>296</th>\n",
       "      <td>Titanic</td>\n",
       "      <td>0.637661</td>\n",
       "      <td>-0.389076</td>\n",
       "    </tr>\n",
       "    <tr>\n",
       "      <th>297</th>\n",
       "      <td>It Comes at Night</td>\n",
       "      <td>0.637661</td>\n",
       "      <td>-1.766505</td>\n",
       "    </tr>\n",
       "    <tr>\n",
       "      <th>298</th>\n",
       "      <td>The Nature of Love</td>\n",
       "      <td>0.805029</td>\n",
       "      <td>0.216992</td>\n",
       "    </tr>\n",
       "    <tr>\n",
       "      <th>299</th>\n",
       "      <td>The Greatest Showman</td>\n",
       "      <td>-0.659442</td>\n",
       "      <td>0.547575</td>\n",
       "    </tr>\n",
       "  </tbody>\n",
       "</table>\n",
       "<p>292 rows × 3 columns</p>\n",
       "</div>"
      ],
      "text/plain": [
       "               Movie Name  Critics Score  Audience Score\n",
       "0                Longlegs       0.553977       -0.884950\n",
       "1                  Oddity       0.972397        0.161895\n",
       "2               The Union      -1.538124       -2.923544\n",
       "3             Borderlands      -2.626017       -1.270630\n",
       "4              Ghostlight       1.139765        0.988352\n",
       "..                    ...            ...             ...\n",
       "295               Ferrari      -0.031811       -0.113591\n",
       "296               Titanic       0.637661       -0.389076\n",
       "297     It Comes at Night       0.637661       -1.766505\n",
       "298    The Nature of Love       0.805029        0.216992\n",
       "299  The Greatest Showman      -0.659442        0.547575\n",
       "\n",
       "[292 rows x 3 columns]"
      ]
     },
     "execution_count": 10,
     "metadata": {},
     "output_type": "execute_result"
    }
   ],
   "source": [
    "# scaler = StandardScaler()\n",
    "# df[['Critics Score', 'Audience Score']] = scaler.fit_transform(df[['Critics Score', 'Audience Score']])\n",
    "# df"
   ]
  },
  {
   "cell_type": "code",
   "execution_count": 25,
   "metadata": {},
   "outputs": [
    {
     "name": "stdout",
     "output_type": "stream",
     "text": [
      "For n-clusters = 2, the silhouette score is 0.5477029514838109\n",
      "For n-clusters = 3, the silhouette score is 0.4520809764536417\n",
      "For n-clusters = 4, the silhouette score is 0.46393390246084465\n",
      "For n-clusters = 5, the silhouette score is 0.42185297441273917\n",
      "For n-clusters = 6, the silhouette score is 0.421372914179362\n",
      "For n-clusters = 7, the silhouette score is 0.40514907282259494\n",
      "For n-clusters = 8, the silhouette score is 0.4167583409079371\n",
      "For n-clusters = 9, the silhouette score is 0.3855765479463309\n",
      "For n-clusters = 10, the silhouette score is 0.3613874691760888\n"
     ]
    }
   ],
   "source": [
    "range_k = range(2, 11)\n",
    "silhouette_scores = []\n",
    "\n",
    "for k in range_k:\n",
    "    kmeans = KMeans(n_clusters=k, random_state=10)\n",
    "    labels = kmeans.fit_predict(df[['Critics Score', 'Audience Score']])\n",
    "    silhouette_avg = silhouette_score(df[['Critics Score', 'Audience Score']], labels)\n",
    "    silhouette_scores.append(silhouette_avg)\n",
    "    print(f'For n-clusters = {k}, the silhouette score is {silhouette_avg}')"
   ]
  },
  {
   "cell_type": "code",
   "execution_count": 26,
   "metadata": {},
   "outputs": [
    {
     "data": {
      "image/png": "[encoded data removed]",
      "text/plain": [
       "<Figure size 640x480 with 1 Axes>"
      ]
     },
     "metadata": {},
     "output_type": "display_data"
    }
   ],
   "source": [
    "plt.plot(range_k, silhouette_scores, marker='o')\n",
    "plt.xlabel('Number of Clusters (k)')\n",
    "plt.ylabel('Silhouette Score')\n",
    "plt.title('Silhouette Score vs. Number of Clusters')\n",
    "plt.show()"
   ]
  },
  {
   "cell_type": "code",
   "execution_count": 27,
   "metadata": {},
   "outputs": [
    {
     "data": {
      "text/html": [
       "<div>\n",
       "<style scoped>\n",
       "    .dataframe tbody tr th:only-of-type {\n",
       "        vertical-align: middle;\n",
       "    }\n",
       "\n",
       "    .dataframe tbody tr th {\n",
       "        vertical-align: top;\n",
       "    }\n",
       "\n",
       "    .dataframe thead th {\n",
       "        text-align: right;\n",
       "    }\n",
       "</style>\n",
       "<table border=\"1\" class=\"dataframe\">\n",
       "  <thead>\n",
       "    <tr style=\"text-align: right;\">\n",
       "      <th></th>\n",
       "      <th>Movie Name</th>\n",
       "      <th>Critics Score</th>\n",
       "      <th>Audience Score</th>\n",
       "      <th>Cluster</th>\n",
       "    </tr>\n",
       "  </thead>\n",
       "  <tbody>\n",
       "    <tr>\n",
       "      <th>0</th>\n",
       "      <td>Longlegs</td>\n",
       "      <td>86.0</td>\n",
       "      <td>60.0</td>\n",
       "      <td>0</td>\n",
       "    </tr>\n",
       "    <tr>\n",
       "      <th>1</th>\n",
       "      <td>Oddity</td>\n",
       "      <td>96.0</td>\n",
       "      <td>79.0</td>\n",
       "      <td>0</td>\n",
       "    </tr>\n",
       "    <tr>\n",
       "      <th>2</th>\n",
       "      <td>The Union</td>\n",
       "      <td>36.0</td>\n",
       "      <td>23.0</td>\n",
       "      <td>1</td>\n",
       "    </tr>\n",
       "    <tr>\n",
       "      <th>3</th>\n",
       "      <td>Borderlands</td>\n",
       "      <td>10.0</td>\n",
       "      <td>53.0</td>\n",
       "      <td>1</td>\n",
       "    </tr>\n",
       "    <tr>\n",
       "      <th>4</th>\n",
       "      <td>Ghostlight</td>\n",
       "      <td>100.0</td>\n",
       "      <td>94.0</td>\n",
       "      <td>0</td>\n",
       "    </tr>\n",
       "    <tr>\n",
       "      <th>...</th>\n",
       "      <td>...</td>\n",
       "      <td>...</td>\n",
       "      <td>...</td>\n",
       "      <td>...</td>\n",
       "    </tr>\n",
       "    <tr>\n",
       "      <th>295</th>\n",
       "      <td>Ferrari</td>\n",
       "      <td>72.0</td>\n",
       "      <td>74.0</td>\n",
       "      <td>0</td>\n",
       "    </tr>\n",
       "    <tr>\n",
       "      <th>296</th>\n",
       "      <td>Titanic</td>\n",
       "      <td>88.0</td>\n",
       "      <td>69.0</td>\n",
       "      <td>0</td>\n",
       "    </tr>\n",
       "    <tr>\n",
       "      <th>297</th>\n",
       "      <td>It Comes at Night</td>\n",
       "      <td>88.0</td>\n",
       "      <td>44.0</td>\n",
       "      <td>0</td>\n",
       "    </tr>\n",
       "    <tr>\n",
       "      <th>298</th>\n",
       "      <td>The Nature of Love</td>\n",
       "      <td>92.0</td>\n",
       "      <td>80.0</td>\n",
       "      <td>0</td>\n",
       "    </tr>\n",
       "    <tr>\n",
       "      <th>299</th>\n",
       "      <td>The Greatest Showman</td>\n",
       "      <td>57.0</td>\n",
       "      <td>86.0</td>\n",
       "      <td>0</td>\n",
       "    </tr>\n",
       "  </tbody>\n",
       "</table>\n",
       "<p>292 rows × 4 columns</p>\n",
       "</div>"
      ],
      "text/plain": [
       "               Movie Name  Critics Score  Audience Score  Cluster\n",
       "0                Longlegs           86.0            60.0        0\n",
       "1                  Oddity           96.0            79.0        0\n",
       "2               The Union           36.0            23.0        1\n",
       "3             Borderlands           10.0            53.0        1\n",
       "4              Ghostlight          100.0            94.0        0\n",
       "..                    ...            ...             ...      ...\n",
       "295               Ferrari           72.0            74.0        0\n",
       "296               Titanic           88.0            69.0        0\n",
       "297     It Comes at Night           88.0            44.0        0\n",
       "298    The Nature of Love           92.0            80.0        0\n",
       "299  The Greatest Showman           57.0            86.0        0\n",
       "\n",
       "[292 rows x 4 columns]"
      ]
     },
     "execution_count": 27,
     "metadata": {},
     "output_type": "execute_result"
    }
   ],
   "source": [
    "k = 2\n",
    "kmeans = KMeans(n_clusters=k)\n",
    "df['Cluster'] = kmeans.fit_predict(df[['Critics Score', 'Audience Score']])\n",
    "df"
   ]
  },
  {
   "cell_type": "code",
   "execution_count": 28,
   "metadata": {},
   "outputs": [
    {
     "data": {
      "image/png": "[encoded data removed]",
      "text/plain": [
       "<Figure size 640x480 with 1 Axes>"
      ]
     },
     "metadata": {},
     "output_type": "display_data"
    }
   ],
   "source": [
    "plt.scatter(df['Critics Score'], df['Audience Score'], c=df['Cluster'], cmap='viridis')\n",
    "plt.xlabel('Critics Score')\n",
    "plt.ylabel('Audience Score')\n",
    "plt.title('Movie Clusters')\n",
    "plt.show()"
   ]
  },
  {
   "cell_type": "code",
   "execution_count": 30,
   "metadata": {},
   "outputs": [
    {
     "data": {
      "application/vnd.plotly.v1+json": {
       "config": {
        "plotlyServerURL": "https://plot.ly"
       },
       "data": [
        {
         "customdata": [
          [
           "Longlegs"
          ],
          [
           "Oddity"
          ],
          [
           "The Union"
          ],
          [
           "Borderlands"
          ],
          [
           "Ghostlight"
          ],
          [
           "Twisters"
          ],
          [
           "Hit Man"
          ],
          [
           "Trap"
          ],
          [
           "Inside Out 2"
          ],
          [
           "Furiosa: A Mad Max Saga"
          ],
          [
           "Horizon: An American Saga - Chapter 1"
          ],
          [
           "Jackpot!"
          ],
          [
           "The Killer"
          ],
          [
           "The Crow"
          ],
          [
           "Fly Me to the Moon"
          ],
          [
           "A Quiet Place: Day One"
          ],
          [
           "Thelma"
          ],
          [
           "The Instigators"
          ],
          [
           "The Fall Guy"
          ],
          [
           "Alien: Covenant"
          ],
          [
           "Despicable Me 4"
          ],
          [
           "Logan Lucky"
          ],
          [
           "Alien"
          ],
          [
           "The Bikeriders"
          ],
          [
           "Kingdom of the Planet of the Apes"
          ],
          [
           "Monkey Man"
          ],
          [
           "The Ministry of Ungentlemanly Warfare"
          ],
          [
           "Immaculate"
          ],
          [
           "Civil War"
          ],
          [
           "Aliens"
          ],
          [
           "Late Night with the Devil"
          ],
          [
           "Pearl"
          ],
          [
           "Green Border"
          ],
          [
           "Kinds of Kindness"
          ],
          [
           "Coraline"
          ],
          [
           "Alien 3"
          ],
          [
           "MaXXXine"
          ],
          [
           "The Beekeeper"
          ],
          [
           "Land of Bad"
          ],
          [
           "The Watchers"
          ],
          [
           "Kill"
          ],
          [
           "Madame Web"
          ],
          [
           "Challengers"
          ],
          [
           "Wicked Little Letters"
          ],
          [
           "The Killer"
          ],
          [
           "The Secret Art of Human Flight"
          ],
          [
           "Anyone But You"
          ],
          [
           "Bone Tomahawk"
          ],
          [
           "Everything Everywhere All at Once"
          ],
          [
           "IF"
          ],
          [
           "Passengers"
          ],
          [
           "I Saw the TV Glow"
          ],
          [
           "Bad Boys: Ride or Die"
          ],
          [
           "First Man"
          ],
          [
           "New Life"
          ],
          [
           "Watchmen Chapter I"
          ],
          [
           "Crumb Catcher"
          ],
          [
           "Abigail"
          ],
          [
           "Leave the World Behind"
          ],
          [
           "Tarot"
          ],
          [
           "Beetlejuice"
          ],
          [
           "Love Lies Bleeding"
          ],
          [
           "Shaun of the Dead"
          ],
          [
           "Marvel's the Avengers"
          ],
          [
           "Night Swim"
          ],
          [
           "Drive-Away Dolls"
          ],
          [
           "Why Him?"
          ],
          [
           "Deadpool"
          ],
          [
           "The Beast Within"
          ],
          [
           "Ghostbusters: Frozen Empire"
          ],
          [
           "Mad Max: Fury Road"
          ],
          [
           "Arcadian"
          ],
          [
           "The Marvels"
          ],
          [
           "Prey"
          ],
          [
           "The First Omen"
          ],
          [
           "Blue Beetle"
          ],
          [
           "Migration"
          ],
          [
           "Dune: Part Two"
          ],
          [
           "Avengers: Endgame"
          ],
          [
           "The Long Game"
          ],
          [
           "Mothers' Instinct"
          ],
          [
           "Interstellar"
          ],
          [
           "A Family Affair"
          ],
          [
           "Spider-Man: No Way Home"
          ],
          [
           "Dark Waters"
          ],
          [
           "Godzilla Minus One"
          ],
          [
           "Find Me Falling"
          ],
          [
           "Five Nights at Freddy's"
          ],
          [
           "Oppenheimer"
          ],
          [
           "The Holdovers"
          ],
          [
           "Mission: Impossible - Dead Reckoning Part One"
          ],
          [
           "Daddio"
          ],
          [
           "The King Tide"
          ],
          [
           "Talk to Me"
          ],
          [
           "Poor Things"
          ],
          [
           "X"
          ],
          [
           "The Gentlemen"
          ],
          [
           "His House"
          ],
          [
           "LaRoy, Texas"
          ],
          [
           "Knox Goes Away"
          ],
          [
           "The Gift"
          ],
          [
           "Touch"
          ],
          [
           "The Idea of You"
          ],
          [
           "The Batman"
          ],
          [
           "The Garfield Movie"
          ],
          [
           "Fifty Shades of Grey"
          ],
          [
           "The Other Woman"
          ],
          [
           "Godzilla x Kong: The New Empire"
          ],
          [
           "Arthur the King"
          ],
          [
           "Miller's Girl"
          ],
          [
           "Young Woman and the Sea"
          ],
          [
           "Barbarian"
          ],
          [
           "In a Violent Nature"
          ],
          [
           "Kingsman: The Secret Service"
          ],
          [
           "Hillbilly Elegy"
          ],
          [
           "Reptile"
          ],
          [
           "Infested"
          ],
          [
           "Logan"
          ],
          [
           "The Super Mario Bros. Movie"
          ],
          [
           "The Devil's Bath"
          ],
          [
           "Smile"
          ],
          [
           "Once Upon a Deadpool"
          ],
          [
           "Deadpool 2"
          ],
          [
           "Aliens vs. Predator: Requiem"
          ],
          [
           "Sleeping Dogs"
          ],
          [
           "Killers of the Flower Moon"
          ],
          [
           "Argylle"
          ],
          [
           "The Emoji Movie"
          ],
          [
           "One Life"
          ],
          [
           "The Promised Land"
          ],
          [
           "Guardians of the Galaxy Vol. 3"
          ],
          [
           "Aftersun"
          ],
          [
           "Beverly Hills Cop: Axel F"
          ],
          [
           "Inside Out"
          ],
          [
           "Dream Scenario"
          ],
          [
           "Joe Rogan: Burn the Boats"
          ],
          [
           "Rebel Moon: Part One - A Child of Fire"
          ],
          [
           "Parasite"
          ],
          [
           "Fair Play"
          ],
          [
           "Get Out"
          ],
          [
           "Avengers: Infinity War"
          ],
          [
           "Spider-Man: Across the Spider-Verse"
          ],
          [
           "Top Gun: Maverick"
          ],
          [
           "The Godfather"
          ],
          [
           "Nope"
          ],
          [
           "Spaceman"
          ],
          [
           "The Hunger Games: The Ballad of Songbirds & Snakes"
          ],
          [
           "Eternals"
          ],
          [
           "The Convert"
          ],
          [
           "Alone"
          ],
          [
           "Bank of Dave"
          ],
          [
           "Anatomy of a Fall"
          ],
          [
           "Operation Mincemeat"
          ],
          [
           "A Simple Favor"
          ],
          [
           "Bokeh"
          ],
          [
           "Shang-Chi and the Legend of the Ten Rings"
          ],
          [
           "The Iron Claw"
          ],
          [
           "The Dark Knight"
          ],
          [
           "No Hard Feelings"
          ],
          [
           "Where the Crawdads Sing"
          ],
          [
           "Hereditary"
          ],
          [
           "Napoleon"
          ],
          [
           "Black Panther: Wakanda Forever"
          ],
          [
           "After"
          ],
          [
           "Trigger Warning"
          ],
          [
           "All of Us Strangers"
          ],
          [
           "Bob Marley: One Love"
          ],
          [
           "Joker"
          ],
          [
           "Iron Man"
          ],
          [
           "To Leslie"
          ],
          [
           "Bullet Train"
          ],
          [
           "American Psycho"
          ],
          [
           "Barbie"
          ],
          [
           "John Wick: Chapter 4"
          ],
          [
           "Nocturnal Animals"
          ],
          [
           "Atlas"
          ],
          [
           "Thor: Love and Thunder"
          ],
          [
           "Avatar: The Way of Water"
          ],
          [
           "Dungeons & Dragons: Honor Among Thieves"
          ],
          [
           "The Little Things"
          ],
          [
           "The Cat Returns"
          ],
          [
           "The Whale"
          ],
          [
           "The Zone of Interest"
          ],
          [
           "The Babadook"
          ],
          [
           "The Boy and the Heron"
          ],
          [
           "Boy Kills World"
          ],
          [
           "Unfrosted"
          ],
          [
           "French Girl"
          ],
          [
           "The Flash"
          ],
          [
           "Stopmotion"
          ],
          [
           "The Accountant"
          ],
          [
           "Black Widow"
          ],
          [
           "One Fast Move"
          ],
          [
           "The Creator"
          ],
          [
           "Wonka"
          ],
          [
           "American Fiction"
          ],
          [
           "Life"
          ],
          [
           "Doctor Strange in the Multiverse of Madness"
          ],
          [
           "A Quiet Place"
          ],
          [
           "Past Lives"
          ],
          [
           "Zack Snyder's Justice League"
          ],
          [
           "Starve Acre"
          ],
          [
           "Perfect Days"
          ],
          [
           "The Peanut Butter Falcon"
          ],
          [
           "Gladiator"
          ],
          [
           "The Power of the Dog"
          ],
          [
           "War for the Planet of the Apes"
          ],
          [
           "Out of Darkness"
          ],
          [
           "The Dead Don't Hurt"
          ],
          [
           "Seven Samurai"
          ],
          [
           "Road House"
          ],
          [
           "Ant-Man and The Wasp: Quantumania"
          ],
          [
           "Saltburn"
          ],
          [
           "Captain Marvel"
          ],
          [
           "Guy Ritchie's The Covenant"
          ],
          [
           "The Strangers: Chapter 1"
          ],
          [
           "Saving Bikini Bottom: The Sandy Cheeks Movie"
          ],
          [
           "Speak No Evil"
          ],
          [
           "Evil Dead Rise"
          ],
          [
           "X-Men Origins: Wolverine"
          ],
          [
           "Hunt for the Wilderpeople"
          ],
          [
           "Damsel"
          ],
          [
           "Lift"
          ],
          [
           "The Menu"
          ],
          [
           "Dark Phoenix"
          ],
          [
           "Crescent City"
          ],
          [
           "Thanksgiving"
          ],
          [
           "The Nest"
          ],
          [
           "The King's Man"
          ],
          [
           "Joyride"
          ],
          [
           "Operation Fortune: Ruse de guerre"
          ],
          [
           "Spirited Away"
          ],
          [
           "Avengers: Age of Ultron"
          ],
          [
           "X-Men: Days of Future Past"
          ],
          [
           "Dune"
          ],
          [
           "Leave No Trace"
          ],
          [
           "A Man Called Otto"
          ],
          [
           "Midsommar"
          ],
          [
           "Don't Breathe"
          ],
          [
           "Fight Club"
          ],
          [
           "Back to Black"
          ],
          [
           "A Quiet Place Part II"
          ],
          [
           "In the Land of Saints and Sinners"
          ],
          [
           "Babes"
          ],
          [
           "Kingsman: The Golden Circle"
          ],
          [
           "Transformers: Rise of the Beasts"
          ],
          [
           "Ordinary Angels"
          ],
          [
           "When Evil Lurks"
          ],
          [
           "The Gray Man"
          ],
          [
           "Indiana Jones and the Dial of Destiny"
          ],
          [
           "Captain America: Civil War"
          ],
          [
           "Cabrini"
          ],
          [
           "Spider-Man: Far From Home"
          ],
          [
           "Grown Ups"
          ],
          [
           "Red Notice"
          ],
          [
           "May December"
          ],
          [
           "The Last Stop in Yuma County"
          ],
          [
           "Shazam! Fury of the Gods"
          ],
          [
           "Star Wars: The Last Jedi"
          ],
          [
           "The Duel"
          ],
          [
           "Knives Out"
          ],
          [
           "M3GAN"
          ],
          [
           "Predator"
          ],
          [
           "Weird: The Al Yankovic Story"
          ],
          [
           "Once Upon a Time... In Hollywood"
          ],
          [
           "The Little Mermaid"
          ],
          [
           "Under Paris"
          ],
          [
           "Upgrade"
          ],
          [
           "Blade Runner 2049"
          ],
          [
           "Sonic the Hedgehog 2"
          ],
          [
           "Star Wars: The Rise of Skywalker"
          ],
          [
           "Noah"
          ],
          [
           "The Predator"
          ],
          [
           "Marcel the Shell with Shoes On"
          ],
          [
           "Orphan: First Kill"
          ],
          [
           "Kung Fu Panda 4"
          ],
          [
           "Eileen"
          ],
          [
           "Free Guy"
          ],
          [
           "The Boys in the Boat"
          ],
          [
           "You'll Never Find Me"
          ],
          [
           "Captain America: The Winter Soldier"
          ],
          [
           "Consumed"
          ],
          [
           "Paddington 2"
          ],
          [
           "The Abandon"
          ],
          [
           "Spider-Man: Homecoming"
          ],
          [
           "Knock at the Cabin"
          ],
          [
           "How to Rob a Bank"
          ],
          [
           "Ferrari"
          ],
          [
           "Titanic"
          ],
          [
           "It Comes at Night"
          ],
          [
           "The Nature of Love"
          ],
          [
           "The Greatest Showman"
          ]
         ],
         "hovertemplate": "Critics Score (%)=%{x}<br>Audience Score (%)=%{y}<br>Movie Name=%{customdata[0]}<br>Cluster=%{marker.color}<extra></extra>",
         "legendgroup": "",
         "marker": {
          "color": [
           0,
           0,
           1,
           1,
           0,
           0,
           0,
           1,
           0,
           0,
           1,
           1,
           1,
           0,
           0,
           0,
           0,
           1,
           0,
           1,
           0,
           0,
           0,
           0,
           0,
           0,
           0,
           0,
           0,
           0,
           0,
           0,
           0,
           1,
           0,
           1,
           0,
           0,
           0,
           1,
           0,
           1,
           0,
           0,
           0,
           0,
           1,
           0,
           0,
           1,
           1,
           0,
           0,
           0,
           0,
           0,
           0,
           0,
           1,
           1,
           0,
           0,
           0,
           0,
           1,
           1,
           1,
           0,
           1,
           1,
           0,
           0,
           0,
           0,
           0,
           0,
           0,
           0,
           0,
           0,
           1,
           0,
           1,
           0,
           0,
           0,
           1,
           1,
           0,
           0,
           0,
           0,
           0,
           0,
           0,
           0,
           0,
           0,
           0,
           0,
           0,
           0,
           0,
           0,
           1,
           1,
           1,
           0,
           0,
           1,
           0,
           0,
           0,
           0,
           1,
           1,
           0,
           0,
           0,
           0,
           0,
           1,
           0,
           1,
           1,
           0,
           1,
           1,
           0,
           0,
           0,
           0,
           0,
           0,
           0,
           1,
           1,
           0,
           0,
           0,
           0,
           0,
           0,
           0,
           0,
           1,
           0,
           1,
           0,
           0,
           0,
           0,
           0,
           0,
           1,
           0,
           0,
           0,
           0,
           1,
           0,
           1,
           0,
           1,
           1,
           0,
           1,
           0,
           0,
           0,
           1,
           0,
           0,
           0,
           0,
           1,
           0,
           0,
           0,
           1,
           0,
           0,
           0,
           0,
           0,
           1,
           1,
           1,
           0,
           0,
           1,
           0,
           1,
           0,
           0,
           0,
           1,
           0,
           0,
           0,
           0,
           0,
           0,
           0,
           0,
           0,
           0,
           0,
           0,
           0,
           1,
           1,
           0,
           0,
           0,
           1,
           1,
           0,
           0,
           1,
           0,
           1,
           1,
           0,
           1,
           1,
           0,
           0,
           1,
           1,
           1,
           0,
           0,
           0,
           0,
           0,
           0,
           0,
           0,
           0,
           1,
           0,
           0,
           0,
           1,
           1,
           0,
           0,
           1,
           0,
           0,
           0,
           0,
           1,
           1,
           0,
           0,
           1,
           0,
           0,
           0,
           0,
           0,
           0,
           0,
           0,
           1,
           0,
           0,
           0,
           1,
           1,
           1,
           0,
           0,
           0,
           0,
           0,
           0,
           0,
           0,
           1,
           0,
           0,
           0,
           0,
           0,
           0,
           0,
           0,
           0,
           0
          ],
          "coloraxis": "coloraxis",
          "symbol": "circle"
         },
         "mode": "markers",
         "name": "",
         "orientation": "v",
         "showlegend": false,
         "type": "scatter",
         "x": [
          86,
          96,
          36,
          10,
          100,
          75,
          95,
          55,
          91,
          90,
          49,
          30,
          58,
          86,
          65,
          86,
          99,
          41,
          82,
          65,
          56,
          92,
          93,
          80,
          80,
          89,
          69,
          71,
          81,
          94,
          97,
          92,
          94,
          72,
          91,
          44,
          73,
          71,
          67,
          32,
          90,
          11,
          88,
          80,
          85,
          93,
          52,
          91,
          93,
          50,
          30,
          84,
          65,
          87,
          93,
          89,
          90,
          83,
          73,
          18,
          82,
          94,
          92,
          91,
          20,
          63,
          39,
          85,
          38,
          42,
          97,
          77,
          62,
          94,
          81,
          77,
          73,
          92,
          94,
          82,
          53,
          73,
          35,
          93,
          89,
          98,
          41,
          32,
          93,
          97,
          96,
          77,
          95,
          94,
          92,
          94,
          75,
          100,
          100,
          64,
          91,
          92,
          81,
          85,
          36,
          25,
          26,
          54,
          70,
          29,
          89,
          92,
          78,
          75,
          24,
          44,
          95,
          93,
          59,
          90,
          80,
          56,
          84,
          12,
          42,
          93,
          33,
          6,
          90,
          97,
          82,
          96,
          66,
          98,
          91,
          0,
          22,
          99,
          85,
          98,
          85,
          95,
          96,
          97,
          83,
          50,
          64,
          47,
          83,
          94,
          86,
          96,
          83,
          84,
          45,
          91,
          89,
          94,
          70,
          34,
          90,
          58,
          84,
          18,
          20,
          96,
          45,
          69,
          94,
          93,
          53,
          68,
          88,
          94,
          74,
          19,
          63,
          76,
          91,
          45,
          88,
          64,
          93,
          98,
          97,
          59,
          42,
          29,
          63,
          91,
          53,
          79,
          38,
          67,
          82,
          93,
          67,
          74,
          96,
          95,
          71,
          86,
          96,
          95,
          80,
          94,
          94,
          86,
          85,
          100,
          59,
          46,
          71,
          79,
          83,
          21,
          64,
          84,
          84,
          38,
          97,
          56,
          29,
          88,
          22,
          17,
          84,
          90,
          41,
          51,
          51,
          96,
          76,
          90,
          83,
          100,
          70,
          83,
          88,
          80,
          35,
          91,
          84,
          88,
          50,
          52,
          84,
          96,
          45,
          70,
          90,
          90,
          91,
          10,
          37,
          91,
          96,
          49,
          91,
          57,
          97,
          93,
          80,
          84,
          86,
          67,
          61,
          88,
          88,
          68,
          51,
          75,
          34,
          98,
          71,
          71,
          82,
          80,
          57,
          81,
          90,
          18,
          99,
          92,
          92,
          67,
          100,
          72,
          88,
          88,
          92,
          57
         ],
         "xaxis": "x",
         "y": [
          60,
          79,
          23,
          53,
          94,
          91,
          91,
          65,
          95,
          89,
          70,
          50,
          52,
          90,
          91,
          73,
          84,
          56,
          86,
          55,
          88,
          76,
          94,
          75,
          78,
          84,
          93,
          59,
          70,
          94,
          81,
          83,
          81,
          49,
          74,
          46,
          78,
          92,
          94,
          52,
          84,
          57,
          73,
          92,
          61,
          94,
          87,
          74,
          77,
          88,
          63,
          72,
          97,
          68,
          70,
          84,
          86,
          85,
          36,
          59,
          82,
          82,
          93,
          91,
          43,
          36,
          51,
          90,
          69,
          83,
          86,
          56,
          82,
          74,
          70,
          91,
          88,
          95,
          90,
          97,
          45,
          86,
          30,
          98,
          95,
          98,
          68,
          87,
          91,
          92,
          94,
          89,
          81,
          82,
          79,
          76,
          84,
          73,
          64,
          84,
          75,
          92,
          66,
          87,
          80,
          41,
          57,
          91,
          97,
          42,
          97,
          71,
          44,
          84,
          81,
          70,
          65,
          90,
          95,
          60,
          77,
          61,
          86,
          30,
          85,
          84,
          72,
          36,
          94,
          95,
          94,
          81,
          77,
          89,
          68,
          49,
          56,
          90,
          54,
          86,
          92,
          94,
          99,
          98,
          69,
          65,
          89,
          77,
          62,
          53,
          86,
          90,
          66,
          73,
          24,
          98,
          94,
          94,
          87,
          96,
          71,
          59,
          94,
          65,
          15,
          91,
          92,
          89,
          91,
          86,
          76,
          85,
          83,
          93,
          73,
          46,
          76,
          92,
          93,
          67,
          82,
          91,
          78,
          72,
          88,
          72,
          51,
          61,
          83,
          50,
          77,
          91,
          72,
          76,
          91,
          96,
          55,
          85,
          83,
          93,
          93,
          59,
          89,
          96,
          87,
          76,
          84,
          54,
          67,
          97,
          53,
          82,
          79,
          45,
          98,
          44,
          22,
          55,
          76,
          58,
          91,
          60,
          33,
          76,
          64,
          29,
          80,
          40,
          80,
          70,
          82,
          96,
          82,
          91,
          90,
          79,
          97,
          63,
          79,
          96,
          86,
          92,
          75,
          79,
          64,
          91,
          99,
          78,
          90,
          88,
          89,
          98,
          95,
          62,
          92,
          65,
          73,
          86,
          41,
          100,
          92,
          78,
          87,
          80,
          70,
          94,
          31,
          88,
          88,
          96,
          86,
          41,
          32,
          90,
          77,
          86,
          53,
          94,
          97,
          67,
          92,
          25,
          88,
          87,
          87,
          63,
          74,
          74,
          69,
          44,
          80,
          86
         ],
         "yaxis": "y"
        }
       ],
       "layout": {
        "coloraxis": {
         "colorbar": {
          "title": {
           "text": "Cluster"
          }
         },
         "colorscale": [
          [
           0,
           "#0d0887"
          ],
          [
           0.1111111111111111,
           "#46039f"
          ],
          [
           0.2222222222222222,
           "#7201a8"
          ],
          [
           0.3333333333333333,
           "#9c179e"
          ],
          [
           0.4444444444444444,
           "#bd3786"
          ],
          [
           0.5555555555555556,
           "#d8576b"
          ],
          [
           0.6666666666666666,
           "#ed7953"
          ],
          [
           0.7777777777777778,
           "#fb9f3a"
          ],
          [
           0.8888888888888888,
           "#fdca26"
          ],
          [
           1,
           "#f0f921"
          ]
         ]
        },
        "legend": {
         "title": {
          "text": "Cluster"
         },
         "tracegroupgap": 0
        },
        "template": {
         "data": {
          "bar": [
           {
            "error_x": {
             "color": "#2a3f5f"
            },
            "error_y": {
             "color": "#2a3f5f"
            },
            "marker": {
             "line": {
              "color": "#E5ECF6",
              "width": 0.5
             },
             "pattern": {
              "fillmode": "overlay",
              "size": 10,
              "solidity": 0.2
             }
            },
            "type": "bar"
           }
          ],
          "barpolar": [
           {
            "marker": {
             "line": {
              "color": "#E5ECF6",
              "width": 0.5
             },
             "pattern": {
              "fillmode": "overlay",
              "size": 10,
              "solidity": 0.2
             }
            },
            "type": "barpolar"
           }
          ],
          "carpet": [
           {
            "aaxis": {
             "endlinecolor": "#2a3f5f",
             "gridcolor": "white",
             "linecolor": "white",
             "minorgridcolor": "white",
             "startlinecolor": "#2a3f5f"
            },
            "baxis": {
             "endlinecolor": "#2a3f5f",
             "gridcolor": "white",
             "linecolor": "white",
             "minorgridcolor": "white",
             "startlinecolor": "#2a3f5f"
            },
            "type": "carpet"
           }
          ],
          "choropleth": [
           {
            "colorbar": {
             "outlinewidth": 0,
             "ticks": ""
            },
            "type": "choropleth"
           }
          ],
          "contour": [
           {
            "colorbar": {
             "outlinewidth": 0,
             "ticks": ""
            },
            "colorscale": [
             [
              0,
              "#0d0887"
             ],
             [
              0.1111111111111111,
              "#46039f"
             ],
             [
              0.2222222222222222,
              "#7201a8"
             ],
             [
              0.3333333333333333,
              "#9c179e"
             ],
             [
              0.4444444444444444,
              "#bd3786"
             ],
             [
              0.5555555555555556,
              "#d8576b"
             ],
             [
              0.6666666666666666,
              "#ed7953"
             ],
             [
              0.7777777777777778,
              "#fb9f3a"
             ],
             [
              0.8888888888888888,
              "#fdca26"
             ],
             [
              1,
              "#f0f921"
             ]
            ],
            "type": "contour"
           }
          ],
          "contourcarpet": [
           {
            "colorbar": {
             "outlinewidth": 0,
             "ticks": ""
            },
            "type": "contourcarpet"
           }
          ],
          "heatmap": [
           {
            "colorbar": {
             "outlinewidth": 0,
             "ticks": ""
            },
            "colorscale": [
             [
              0,
              "#0d0887"
             ],
             [
              0.1111111111111111,
              "#46039f"
             ],
             [
              0.2222222222222222,
              "#7201a8"
             ],
             [
              0.3333333333333333,
              "#9c179e"
             ],
             [
              0.4444444444444444,
              "#bd3786"
             ],
             [
              0.5555555555555556,
              "#d8576b"
             ],
             [
              0.6666666666666666,
              "#ed7953"
             ],
             [
              0.7777777777777778,
              "#fb9f3a"
             ],
             [
              0.8888888888888888,
              "#fdca26"
             ],
             [
              1,
              "#f0f921"
             ]
            ],
            "type": "heatmap"
           }
          ],
          "heatmapgl": [
           {
            "colorbar": {
             "outlinewidth": 0,
             "ticks": ""
            },
            "colorscale": [
             [
              0,
              "#0d0887"
             ],
             [
              0.1111111111111111,
              "#46039f"
             ],
             [
              0.2222222222222222,
              "#7201a8"
             ],
             [
              0.3333333333333333,
              "#9c179e"
             ],
             [
              0.4444444444444444,
              "#bd3786"
             ],
             [
              0.5555555555555556,
              "#d8576b"
             ],
             [
              0.6666666666666666,
              "#ed7953"
             ],
             [
              0.7777777777777778,
              "#fb9f3a"
             ],
             [
              0.8888888888888888,
              "#fdca26"
             ],
             [
              1,
              "#f0f921"
             ]
            ],
            "type": "heatmapgl"
           }
          ],
          "histogram": [
           {
            "marker": {
             "pattern": {
              "fillmode": "overlay",
              "size": 10,
              "solidity": 0.2
             }
            },
            "type": "histogram"
           }
          ],
          "histogram2d": [
           {
            "colorbar": {
             "outlinewidth": 0,
             "ticks": ""
            },
            "colorscale": [
             [
              0,
              "#0d0887"
             ],
             [
              0.1111111111111111,
              "#46039f"
             ],
             [
              0.2222222222222222,
              "#7201a8"
             ],
             [
              0.3333333333333333,
              "#9c179e"
             ],
             [
              0.4444444444444444,
              "#bd3786"
             ],
             [
              0.5555555555555556,
              "#d8576b"
             ],
             [
              0.6666666666666666,
              "#ed7953"
             ],
             [
              0.7777777777777778,
              "#fb9f3a"
             ],
             [
              0.8888888888888888,
              "#fdca26"
             ],
             [
              1,
              "#f0f921"
             ]
            ],
            "type": "histogram2d"
           }
          ],
          "histogram2dcontour": [
           {
            "colorbar": {
             "outlinewidth": 0,
             "ticks": ""
            },
            "colorscale": [
             [
              0,
              "#0d0887"
             ],
             [
              0.1111111111111111,
              "#46039f"
             ],
             [
              0.2222222222222222,
              "#7201a8"
             ],
             [
              0.3333333333333333,
              "#9c179e"
             ],
             [
              0.4444444444444444,
              "#bd3786"
             ],
             [
              0.5555555555555556,
              "#d8576b"
             ],
             [
              0.6666666666666666,
              "#ed7953"
             ],
             [
              0.7777777777777778,
              "#fb9f3a"
             ],
             [
              0.8888888888888888,
              "#fdca26"
             ],
             [
              1,
              "#f0f921"
             ]
            ],
            "type": "histogram2dcontour"
           }
          ],
          "mesh3d": [
           {
            "colorbar": {
             "outlinewidth": 0,
             "ticks": ""
            },
            "type": "mesh3d"
           }
          ],
          "parcoords": [
           {
            "line": {
             "colorbar": {
              "outlinewidth": 0,
              "ticks": ""
             }
            },
            "type": "parcoords"
           }
          ],
          "pie": [
           {
            "automargin": true,
            "type": "pie"
           }
          ],
          "scatter": [
           {
            "fillpattern": {
             "fillmode": "overlay",
             "size": 10,
             "solidity": 0.2
            },
            "type": "scatter"
           }
          ],
          "scatter3d": [
           {
            "line": {
             "colorbar": {
              "outlinewidth": 0,
              "ticks": ""
             }
            },
            "marker": {
             "colorbar": {
              "outlinewidth": 0,
              "ticks": ""
             }
            },
            "type": "scatter3d"
           }
          ],
          "scattercarpet": [
           {
            "marker": {
             "colorbar": {
              "outlinewidth": 0,
              "ticks": ""
             }
            },
            "type": "scattercarpet"
           }
          ],
          "scattergeo": [
           {
            "marker": {
             "colorbar": {
              "outlinewidth": 0,
              "ticks": ""
             }
            },
            "type": "scattergeo"
           }
          ],
          "scattergl": [
           {
            "marker": {
             "colorbar": {
              "outlinewidth": 0,
              "ticks": ""
             }
            },
            "type": "scattergl"
           }
          ],
          "scattermapbox": [
           {
            "marker": {
             "colorbar": {
              "outlinewidth": 0,
              "ticks": ""
             }
            },
            "type": "scattermapbox"
           }
          ],
          "scatterpolar": [
           {
            "marker": {
             "colorbar": {
              "outlinewidth": 0,
              "ticks": ""
             }
            },
            "type": "scatterpolar"
           }
          ],
          "scatterpolargl": [
           {
            "marker": {
             "colorbar": {
              "outlinewidth": 0,
              "ticks": ""
             }
            },
            "type": "scatterpolargl"
           }
          ],
          "scatterternary": [
           {
            "marker": {
             "colorbar": {
              "outlinewidth": 0,
              "ticks": ""
             }
            },
            "type": "scatterternary"
           }
          ],
          "surface": [
           {
            "colorbar": {
             "outlinewidth": 0,
             "ticks": ""
            },
            "colorscale": [
             [
              0,
              "#0d0887"
             ],
             [
              0.1111111111111111,
              "#46039f"
             ],
             [
              0.2222222222222222,
              "#7201a8"
             ],
             [
              0.3333333333333333,
              "#9c179e"
             ],
             [
              0.4444444444444444,
              "#bd3786"
             ],
             [
              0.5555555555555556,
              "#d8576b"
             ],
             [
              0.6666666666666666,
              "#ed7953"
             ],
             [
              0.7777777777777778,
              "#fb9f3a"
             ],
             [
              0.8888888888888888,
              "#fdca26"
             ],
             [
              1,
              "#f0f921"
             ]
            ],
            "type": "surface"
           }
          ],
          "table": [
           {
            "cells": {
             "fill": {
              "color": "#EBF0F8"
             },
             "line": {
              "color": "white"
             }
            },
            "header": {
             "fill": {
              "color": "#C8D4E3"
             },
             "line": {
              "color": "white"
             }
            },
            "type": "table"
           }
          ]
         },
         "layout": {
          "annotationdefaults": {
           "arrowcolor": "#2a3f5f",
           "arrowhead": 0,
           "arrowwidth": 1
          },
          "autotypenumbers": "strict",
          "coloraxis": {
           "colorbar": {
            "outlinewidth": 0,
            "ticks": ""
           }
          },
          "colorscale": {
           "diverging": [
            [
             0,
             "#8e0152"
            ],
            [
             0.1,
             "#c51b7d"
            ],
            [
             0.2,
             "#de77ae"
            ],
            [
             0.3,
             "#f1b6da"
            ],
            [
             0.4,
             "#fde0ef"
            ],
            [
             0.5,
             "#f7f7f7"
            ],
            [
             0.6,
             "#e6f5d0"
            ],
            [
             0.7,
             "#b8e186"
            ],
            [
             0.8,
             "#7fbc41"
            ],
            [
             0.9,
             "#4d9221"
            ],
            [
             1,
             "#276419"
            ]
           ],
           "sequential": [
            [
             0,
             "#0d0887"
            ],
            [
             0.1111111111111111,
             "#46039f"
            ],
            [
             0.2222222222222222,
             "#7201a8"
            ],
            [
             0.3333333333333333,
             "#9c179e"
            ],
            [
             0.4444444444444444,
             "#bd3786"
            ],
            [
             0.5555555555555556,
             "#d8576b"
            ],
            [
             0.6666666666666666,
             "#ed7953"
            ],
            [
             0.7777777777777778,
             "#fb9f3a"
            ],
            [
             0.8888888888888888,
             "#fdca26"
            ],
            [
             1,
             "#f0f921"
            ]
           ],
           "sequentialminus": [
            [
             0,
             "#0d0887"
            ],
            [
             0.1111111111111111,
             "#46039f"
            ],
            [
             0.2222222222222222,
             "#7201a8"
            ],
            [
             0.3333333333333333,
             "#9c179e"
            ],
            [
             0.4444444444444444,
             "#bd3786"
            ],
            [
             0.5555555555555556,
             "#d8576b"
            ],
            [
             0.6666666666666666,
             "#ed7953"
            ],
            [
             0.7777777777777778,
             "#fb9f3a"
            ],
            [
             0.8888888888888888,
             "#fdca26"
            ],
            [
             1,
             "#f0f921"
            ]
           ]
          },
          "colorway": [
           "#636efa",
           "#EF553B",
           "#00cc96",
           "#ab63fa",
           "#FFA15A",
           "#19d3f3",
           "#FF6692",
           "#B6E880",
           "#FF97FF",
           "#FECB52"
          ],
          "font": {
           "color": "#2a3f5f"
          },
          "geo": {
           "bgcolor": "white",
           "lakecolor": "white",
           "landcolor": "#E5ECF6",
           "showlakes": true,
           "showland": true,
           "subunitcolor": "white"
          },
          "hoverlabel": {
           "align": "left"
          },
          "hovermode": "closest",
          "mapbox": {
           "style": "light"
          },
          "paper_bgcolor": "white",
          "plot_bgcolor": "#E5ECF6",
          "polar": {
           "angularaxis": {
            "gridcolor": "white",
            "linecolor": "white",
            "ticks": ""
           },
           "bgcolor": "#E5ECF6",
           "radialaxis": {
            "gridcolor": "white",
            "linecolor": "white",
            "ticks": ""
           }
          },
          "scene": {
           "xaxis": {
            "backgroundcolor": "#E5ECF6",
            "gridcolor": "white",
            "gridwidth": 2,
            "linecolor": "white",
            "showbackground": true,
            "ticks": "",
            "zerolinecolor": "white"
           },
           "yaxis": {
            "backgroundcolor": "#E5ECF6",
            "gridcolor": "white",
            "gridwidth": 2,
            "linecolor": "white",
            "showbackground": true,
            "ticks": "",
            "zerolinecolor": "white"
           },
           "zaxis": {
            "backgroundcolor": "#E5ECF6",
            "gridcolor": "white",
            "gridwidth": 2,
            "linecolor": "white",
            "showbackground": true,
            "ticks": "",
            "zerolinecolor": "white"
           }
          },
          "shapedefaults": {
           "line": {
            "color": "#2a3f5f"
           }
          },
          "ternary": {
           "aaxis": {
            "gridcolor": "white",
            "linecolor": "white",
            "ticks": ""
           },
           "baxis": {
            "gridcolor": "white",
            "linecolor": "white",
            "ticks": ""
           },
           "bgcolor": "#E5ECF6",
           "caxis": {
            "gridcolor": "white",
            "linecolor": "white",
            "ticks": ""
           }
          },
          "title": {
           "x": 0.05
          },
          "xaxis": {
           "automargin": true,
           "gridcolor": "white",
           "linecolor": "white",
           "ticks": "",
           "title": {
            "standoff": 15
           },
           "zerolinecolor": "white",
           "zerolinewidth": 2
          },
          "yaxis": {
           "automargin": true,
           "gridcolor": "white",
           "linecolor": "white",
           "ticks": "",
           "title": {
            "standoff": 15
           },
           "zerolinecolor": "white",
           "zerolinewidth": 2
          }
         }
        },
        "title": {
         "text": "Movie Clusters"
        },
        "xaxis": {
         "anchor": "y",
         "domain": [
          0,
          1
         ],
         "title": {
          "text": "Critics Score (%)"
         }
        },
        "yaxis": {
         "anchor": "x",
         "domain": [
          0,
          1
         ],
         "title": {
          "text": "Audience Score (%)"
         }
        }
       }
      }
     },
     "metadata": {},
     "output_type": "display_data"
    }
   ],
   "source": [
    "fig = px.scatter(\n",
    "    df,\n",
    "    x='Critics Score',\n",
    "    y='Audience Score',\n",
    "    color='Cluster',\n",
    "    hover_data=['Movie Name', 'Critics Score', 'Audience Score'],\n",
    "    title='Movie Clusters',\n",
    "    labels={'Critics Score': 'Critics Score (%)', 'Audience Score': 'Audience Score (%)'}\n",
    ")\n",
    "\n",
    "fig.update_layout(\n",
    "    xaxis_title='Critics Score (%)',\n",
    "    yaxis_title='Audience Score (%)',\n",
    "    legend_title='Cluster'\n",
    ")\n",
    "\n",
    "fig.show()"
   ]
  },
  {
   "cell_type": "code",
   "execution_count": null,
   "metadata": {},
   "outputs": [],
   "source": []
  }
 ],
 "metadata": {
  "kernelspec": {
   "display_name": "Python 3",
   "language": "python",
   "name": "python3"
  },
  "language_info": {
   "codemirror_mode": {
    "name": "ipython",
    "version": 3
   },
   "file_extension": ".py",
   "mimetype": "text/x-python",
   "name": "python",
   "nbconvert_exporter": "python",
   "pygments_lexer": "ipython3",
   "version": "3.12.4"
  }
 },
 "nbformat": 4,
 "nbformat_minor": 2
}
